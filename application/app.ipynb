{
 "cells": [
  {
   "cell_type": "code",
   "execution_count": null,
   "id": "25a0d4a9",
   "metadata": {
    "scrolled": false
   },
   "outputs": [
    {
     "name": "stdout",
     "output_type": "stream",
     "text": [
      " * Serving Flask app '__main__'\n",
      " * Debug mode: off\n"
     ]
    },
    {
     "name": "stderr",
     "output_type": "stream",
     "text": [
      "C:\\Users\\Ifakir\\anaconda3\\Lib\\site-packages\\sklearn\\base.py:347: InconsistentVersionWarning: Trying to unpickle estimator SVC from version 1.0.2 when using version 1.3.0. This might lead to breaking code or invalid results. Use at your own risk. For more info please refer to:\n",
      "https://scikit-learn.org/stable/model_persistence.html#security-maintainability-limitations\n",
      "  warnings.warn(\n",
      "WARNING: This is a development server. Do not use it in a production deployment. Use a production WSGI server instead.\n",
      " * Running on all addresses (0.0.0.0)\n",
      " * Running on http://127.0.0.1:5000\n",
      " * Running on http://192.168.1.76:5000\n",
      "Press CTRL+C to quit\n",
      "127.0.0.1 - - [22/Aug/2023 20:44:08] \"GET / HTTP/1.1\" 200 -\n",
      "127.0.0.1 - - [22/Aug/2023 20:44:08] \"GET /static/css/style.css HTTP/1.1\" 304 -\n",
      "127.0.0.1 - - [22/Aug/2023 20:44:08] \"GET /favicon.ico HTTP/1.1\" 404 -\n",
      "192.168.1.76 - - [22/Aug/2023 20:44:16] \"GET / HTTP/1.1\" 200 -\n",
      "192.168.1.76 - - [22/Aug/2023 20:44:17] \"GET /static/css/style.css HTTP/1.1\" 200 -\n",
      "192.168.1.76 - - [22/Aug/2023 20:44:17] \"GET /favicon.ico HTTP/1.1\" 404 -\n",
      "C:\\Users\\Ifakir\\anaconda3\\Lib\\site-packages\\sklearn\\base.py:464: UserWarning: X does not have valid feature names, but SVC was fitted with feature names\n",
      "  warnings.warn(\n",
      "192.168.1.76 - - [22/Aug/2023 20:45:01] \"POST /predict HTTP/1.1\" 200 -\n",
      "192.168.1.76 - - [22/Aug/2023 20:45:01] \"GET /static/css/style.css HTTP/1.1\" 304 -\n",
      "C:\\Users\\Ifakir\\anaconda3\\Lib\\site-packages\\sklearn\\base.py:464: UserWarning: X does not have valid feature names, but SVC was fitted with feature names\n",
      "  warnings.warn(\n",
      "192.168.1.76 - - [22/Aug/2023 20:45:31] \"POST /predict HTTP/1.1\" 200 -\n",
      "192.168.1.76 - - [22/Aug/2023 20:45:32] \"GET /static/css/style.css HTTP/1.1\" 304 -\n",
      "C:\\Users\\Ifakir\\anaconda3\\Lib\\site-packages\\sklearn\\base.py:464: UserWarning: X does not have valid feature names, but SVC was fitted with feature names\n",
      "  warnings.warn(\n",
      "192.168.1.76 - - [22/Aug/2023 20:46:01] \"POST /predict HTTP/1.1\" 200 -\n",
      "192.168.1.76 - - [22/Aug/2023 20:46:01] \"GET /static/css/style.css HTTP/1.1\" 304 -\n",
      "C:\\Users\\Ifakir\\anaconda3\\Lib\\site-packages\\sklearn\\base.py:464: UserWarning: X does not have valid feature names, but SVC was fitted with feature names\n",
      "  warnings.warn(\n",
      "192.168.1.76 - - [22/Aug/2023 20:46:28] \"POST /predict HTTP/1.1\" 200 -\n",
      "192.168.1.76 - - [22/Aug/2023 20:46:28] \"GET /static/css/style.css HTTP/1.1\" 304 -\n",
      "127.0.0.1 - - [22/Aug/2023 20:47:10] \"GET / HTTP/1.1\" 200 -\n",
      "127.0.0.1 - - [22/Aug/2023 20:47:10] \"GET /static/css/style.css HTTP/1.1\" 304 -\n",
      "C:\\Users\\Ifakir\\anaconda3\\Lib\\site-packages\\sklearn\\base.py:464: UserWarning: X does not have valid feature names, but SVC was fitted with feature names\n",
      "  warnings.warn(\n",
      "127.0.0.1 - - [22/Aug/2023 20:47:26] \"POST /predict HTTP/1.1\" 200 -\n",
      "127.0.0.1 - - [22/Aug/2023 20:47:26] \"GET /static/css/style.css HTTP/1.1\" 200 -\n",
      "127.0.0.1 - - [22/Aug/2023 20:47:44] \"GET / HTTP/1.1\" 200 -\n",
      "127.0.0.1 - - [22/Aug/2023 20:47:44] \"GET /static/css/style.css HTTP/1.1\" 304 -\n",
      "192.168.1.76 - - [22/Aug/2023 20:47:48] \"GET / HTTP/1.1\" 200 -\n",
      "192.168.1.76 - - [22/Aug/2023 20:47:48] \"GET /static/css/style.css HTTP/1.1\" 304 -\n"
     ]
    }
   ],
   "source": [
    "import numpy as np\n",
    "from flask import Flask, request, jsonify, render_template\n",
    "import pickle\n",
    "\n",
    "app = Flask(__name__)\n",
    "\n",
    "# Chargement du modèle\n",
    "with open('model.pkl', 'rb') as file:\n",
    "     model = pickle.load(file)\n",
    "@app.route('/')\n",
    "def home():\n",
    "    return render_template('index.html')\n",
    "\n",
    "@app.route('/predict', methods=['POST'])\n",
    "def predict():\n",
    "    try:\n",
    "        int_features = [int(x) for x in request.form.values()]\n",
    "        final_features = [np.array(int_features)]\n",
    "        prediction = model.predict(final_features)\n",
    "        output = round(prediction[0], 2)\n",
    "\n",
    "        return render_template('index.html', prediction_text='La réponse à votre requête {}'.format(output))\n",
    "\n",
    "    except Exception as e:\n",
    "        print(\"Une erreur s'est produite dans la fonction predict() :\", e)\n",
    "        return jsonify({'error': 'Une erreur s\\'est produite lors de la prédiction.'})\n",
    "\n",
    "if __name__ == \"__main__\":\n",
    "    app.run(host='0.0.0.0', port=5000)\n"
   ]
  },
  {
   "cell_type": "code",
   "execution_count": null,
   "id": "ec038c51",
   "metadata": {},
   "outputs": [],
   "source": []
  },
  {
   "cell_type": "code",
   "execution_count": null,
   "id": "6557341e",
   "metadata": {},
   "outputs": [],
   "source": []
  }
 ],
 "metadata": {
  "kernelspec": {
   "display_name": "Python 3 (ipykernel)",
   "language": "python",
   "name": "python3"
  },
  "language_info": {
   "codemirror_mode": {
    "name": "ipython",
    "version": 3
   },
   "file_extension": ".py",
   "mimetype": "text/x-python",
   "name": "python",
   "nbconvert_exporter": "python",
   "pygments_lexer": "ipython3",
   "version": "3.11.4"
  }
 },
 "nbformat": 4,
 "nbformat_minor": 5
}
