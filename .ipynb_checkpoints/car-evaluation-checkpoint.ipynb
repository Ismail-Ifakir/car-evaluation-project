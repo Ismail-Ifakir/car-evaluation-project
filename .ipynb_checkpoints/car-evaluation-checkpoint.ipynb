{
 "cells": [
  {
   "cell_type": "markdown",
   "id": "cb06a663",
   "metadata": {
    "id": "Fr2CZl_dncHX",
    "papermill": {
     "duration": 0.036147,
     "end_time": "2021-11-23T12:55:37.175002",
     "exception": false,
     "start_time": "2021-11-23T12:55:37.138855",
     "status": "completed"
    },
    "tags": []
   },
   "source": [
    "# Prédiction de l'évaluation d'une Voiture\n",
    "\n"
   ]
  },
  {
   "cell_type": "markdown",
   "id": "b190b3ea",
   "metadata": {},
   "source": [
    "## 1.Importations des bibliothéque"
   ]
  },
  {
   "cell_type": "code",
   "execution_count": 16,
   "id": "a4e6c5d9",
   "metadata": {
    "execution": {
     "iopub.execute_input": "2021-11-23T12:55:47.876953Z",
     "iopub.status.busy": "2021-11-23T12:55:47.875920Z",
     "iopub.status.idle": "2021-11-23T12:55:49.366114Z",
     "shell.execute_reply": "2021-11-23T12:55:49.365547Z",
     "shell.execute_reply.started": "2021-11-23T12:34:06.115981Z"
    },
    "id": "zsJcYGX6nc-H",
    "outputId": "d5b8c895-2e52-4580-e414-e7a83b2e5ed1",
    "papermill": {
     "duration": 1.517952,
     "end_time": "2021-11-23T12:55:49.366264",
     "exception": false,
     "start_time": "2021-11-23T12:55:47.848312",
     "status": "completed"
    },
    "tags": []
   },
   "outputs": [],
   "source": [
    "import numpy as np                 #manipulation des tablaux et matrices\n",
    "import pandas as pd                #pour Importer les dataset\n",
    "import matplotlib.pyplot as plt    # pour traçer des graphes \n",
    "import category_encoders as ce    \n",
    "import seaborn as sns              # pour la visialisation des données "
   ]
  },
  {
   "cell_type": "markdown",
   "id": "4808fc37",
   "metadata": {},
   "source": [
    "## 2.importer notre dataset"
   ]
  },
  {
   "cell_type": "code",
   "execution_count": 17,
   "id": "0d21e2f1",
   "metadata": {
    "execution": {
     "iopub.execute_input": "2021-11-23T12:55:49.414069Z",
     "iopub.status.busy": "2021-11-23T12:55:49.413361Z",
     "iopub.status.idle": "2021-11-23T12:55:49.459326Z",
     "shell.execute_reply": "2021-11-23T12:55:49.458757Z",
     "shell.execute_reply.started": "2021-11-23T12:47:28.006466Z"
    },
    "id": "xwWymAnsngmG",
    "outputId": "5c05bc48-1ce6-4765-b4f7-1a84ef57ea35",
    "papermill": {
     "duration": 0.072219,
     "end_time": "2021-11-23T12:55:49.459469",
     "exception": false,
     "start_time": "2021-11-23T12:55:49.387250",
     "status": "completed"
    },
    "tags": []
   },
   "outputs": [
    {
     "data": {
      "text/html": [
       "<div>\n",
       "<style scoped>\n",
       "    .dataframe tbody tr th:only-of-type {\n",
       "        vertical-align: middle;\n",
       "    }\n",
       "\n",
       "    .dataframe tbody tr th {\n",
       "        vertical-align: top;\n",
       "    }\n",
       "\n",
       "    .dataframe thead th {\n",
       "        text-align: right;\n",
       "    }\n",
       "</style>\n",
       "<table border=\"1\" class=\"dataframe\">\n",
       "  <thead>\n",
       "    <tr style=\"text-align: right;\">\n",
       "      <th></th>\n",
       "      <th>0</th>\n",
       "      <th>1</th>\n",
       "      <th>2</th>\n",
       "      <th>3</th>\n",
       "      <th>4</th>\n",
       "      <th>5</th>\n",
       "      <th>6</th>\n",
       "    </tr>\n",
       "  </thead>\n",
       "  <tbody>\n",
       "    <tr>\n",
       "      <th>0</th>\n",
       "      <td>vhigh</td>\n",
       "      <td>vhigh</td>\n",
       "      <td>NaN</td>\n",
       "      <td>2</td>\n",
       "      <td>small</td>\n",
       "      <td>low</td>\n",
       "      <td>unacc</td>\n",
       "    </tr>\n",
       "    <tr>\n",
       "      <th>1</th>\n",
       "      <td>vhigh</td>\n",
       "      <td>vhigh</td>\n",
       "      <td>2</td>\n",
       "      <td>2</td>\n",
       "      <td>small</td>\n",
       "      <td>med</td>\n",
       "      <td>unacc</td>\n",
       "    </tr>\n",
       "    <tr>\n",
       "      <th>2</th>\n",
       "      <td>vhigh</td>\n",
       "      <td>vhigh</td>\n",
       "      <td>2</td>\n",
       "      <td>2</td>\n",
       "      <td>small</td>\n",
       "      <td>high</td>\n",
       "      <td>unacc</td>\n",
       "    </tr>\n",
       "    <tr>\n",
       "      <th>3</th>\n",
       "      <td>vhigh</td>\n",
       "      <td>vhigh</td>\n",
       "      <td>2</td>\n",
       "      <td>NaN</td>\n",
       "      <td>med</td>\n",
       "      <td>low</td>\n",
       "      <td>unacc</td>\n",
       "    </tr>\n",
       "    <tr>\n",
       "      <th>4</th>\n",
       "      <td>vhigh</td>\n",
       "      <td>vhigh</td>\n",
       "      <td>2</td>\n",
       "      <td>2</td>\n",
       "      <td>med</td>\n",
       "      <td>med</td>\n",
       "      <td>unacc</td>\n",
       "    </tr>\n",
       "  </tbody>\n",
       "</table>\n",
       "</div>"
      ],
      "text/plain": [
       "       0      1    2    3      4     5      6\n",
       "0  vhigh  vhigh  NaN    2  small   low  unacc\n",
       "1  vhigh  vhigh    2    2  small   med  unacc\n",
       "2  vhigh  vhigh    2    2  small  high  unacc\n",
       "3  vhigh  vhigh    2  NaN    med   low  unacc\n",
       "4  vhigh  vhigh    2    2    med   med  unacc"
      ]
     },
     "execution_count": 17,
     "metadata": {},
     "output_type": "execute_result"
    }
   ],
   "source": [
    "data = pd.read_csv(\"car_evaluation.csv\",header=None)\n",
    "data.head()    "
   ]
  },
  {
   "cell_type": "markdown",
   "id": "51243ff0",
   "metadata": {},
   "source": [
    "## 3. Analyse descriptive et Préparation du dataset"
   ]
  },
  {
   "cell_type": "code",
   "execution_count": 18,
   "id": "44063d92",
   "metadata": {},
   "outputs": [
    {
     "data": {
      "text/html": [
       "<div>\n",
       "<style scoped>\n",
       "    .dataframe tbody tr th:only-of-type {\n",
       "        vertical-align: middle;\n",
       "    }\n",
       "\n",
       "    .dataframe tbody tr th {\n",
       "        vertical-align: top;\n",
       "    }\n",
       "\n",
       "    .dataframe thead th {\n",
       "        text-align: right;\n",
       "    }\n",
       "</style>\n",
       "<table border=\"1\" class=\"dataframe\">\n",
       "  <thead>\n",
       "    <tr style=\"text-align: right;\">\n",
       "      <th></th>\n",
       "      <th>0</th>\n",
       "      <th>1</th>\n",
       "      <th>2</th>\n",
       "      <th>3</th>\n",
       "      <th>4</th>\n",
       "      <th>5</th>\n",
       "      <th>6</th>\n",
       "    </tr>\n",
       "  </thead>\n",
       "  <tbody>\n",
       "    <tr>\n",
       "      <th>0</th>\n",
       "      <td>vhigh</td>\n",
       "      <td>vhigh</td>\n",
       "      <td>NaN</td>\n",
       "      <td>2</td>\n",
       "      <td>small</td>\n",
       "      <td>low</td>\n",
       "      <td>unacc</td>\n",
       "    </tr>\n",
       "    <tr>\n",
       "      <th>1</th>\n",
       "      <td>vhigh</td>\n",
       "      <td>vhigh</td>\n",
       "      <td>2</td>\n",
       "      <td>2</td>\n",
       "      <td>small</td>\n",
       "      <td>med</td>\n",
       "      <td>unacc</td>\n",
       "    </tr>\n",
       "    <tr>\n",
       "      <th>2</th>\n",
       "      <td>vhigh</td>\n",
       "      <td>vhigh</td>\n",
       "      <td>2</td>\n",
       "      <td>2</td>\n",
       "      <td>small</td>\n",
       "      <td>high</td>\n",
       "      <td>unacc</td>\n",
       "    </tr>\n",
       "    <tr>\n",
       "      <th>3</th>\n",
       "      <td>vhigh</td>\n",
       "      <td>vhigh</td>\n",
       "      <td>2</td>\n",
       "      <td>NaN</td>\n",
       "      <td>med</td>\n",
       "      <td>low</td>\n",
       "      <td>unacc</td>\n",
       "    </tr>\n",
       "    <tr>\n",
       "      <th>4</th>\n",
       "      <td>vhigh</td>\n",
       "      <td>vhigh</td>\n",
       "      <td>2</td>\n",
       "      <td>2</td>\n",
       "      <td>med</td>\n",
       "      <td>med</td>\n",
       "      <td>unacc</td>\n",
       "    </tr>\n",
       "    <tr>\n",
       "      <th>5</th>\n",
       "      <td>vhigh</td>\n",
       "      <td>vhigh</td>\n",
       "      <td>2</td>\n",
       "      <td>2</td>\n",
       "      <td>med</td>\n",
       "      <td>high</td>\n",
       "      <td>unacc</td>\n",
       "    </tr>\n",
       "    <tr>\n",
       "      <th>6</th>\n",
       "      <td>vhigh</td>\n",
       "      <td>vhigh</td>\n",
       "      <td>NaN</td>\n",
       "      <td>2</td>\n",
       "      <td>big</td>\n",
       "      <td>low</td>\n",
       "      <td>unacc</td>\n",
       "    </tr>\n",
       "    <tr>\n",
       "      <th>7</th>\n",
       "      <td>vhigh</td>\n",
       "      <td>vhigh</td>\n",
       "      <td>2</td>\n",
       "      <td>2</td>\n",
       "      <td>big</td>\n",
       "      <td>med</td>\n",
       "      <td>unacc</td>\n",
       "    </tr>\n",
       "    <tr>\n",
       "      <th>8</th>\n",
       "      <td>vhigh</td>\n",
       "      <td>vhigh</td>\n",
       "      <td>2</td>\n",
       "      <td>2</td>\n",
       "      <td>big</td>\n",
       "      <td>high</td>\n",
       "      <td>unacc</td>\n",
       "    </tr>\n",
       "    <tr>\n",
       "      <th>9</th>\n",
       "      <td>vhigh</td>\n",
       "      <td>vhigh</td>\n",
       "      <td>2</td>\n",
       "      <td>4</td>\n",
       "      <td>small</td>\n",
       "      <td>low</td>\n",
       "      <td>unacc</td>\n",
       "    </tr>\n",
       "  </tbody>\n",
       "</table>\n",
       "</div>"
      ],
      "text/plain": [
       "       0      1    2    3      4     5      6\n",
       "0  vhigh  vhigh  NaN    2  small   low  unacc\n",
       "1  vhigh  vhigh    2    2  small   med  unacc\n",
       "2  vhigh  vhigh    2    2  small  high  unacc\n",
       "3  vhigh  vhigh    2  NaN    med   low  unacc\n",
       "4  vhigh  vhigh    2    2    med   med  unacc\n",
       "5  vhigh  vhigh    2    2    med  high  unacc\n",
       "6  vhigh  vhigh  NaN    2    big   low  unacc\n",
       "7  vhigh  vhigh    2    2    big   med  unacc\n",
       "8  vhigh  vhigh    2    2    big  high  unacc\n",
       "9  vhigh  vhigh    2    4  small   low  unacc"
      ]
     },
     "execution_count": 18,
     "metadata": {},
     "output_type": "execute_result"
    }
   ],
   "source": [
    "data.head(10)"
   ]
  },
  {
   "cell_type": "code",
   "execution_count": 19,
   "id": "a2ac582a",
   "metadata": {},
   "outputs": [
    {
     "data": {
      "text/plain": [
       "(1728, 7)"
      ]
     },
     "execution_count": 19,
     "metadata": {},
     "output_type": "execute_result"
    }
   ],
   "source": [
    "#afficher la dimension de notre dataset\n",
    "data.shape"
   ]
  },
  {
   "cell_type": "code",
   "execution_count": 20,
   "id": "a8a1b77a",
   "metadata": {
    "execution": {
     "iopub.execute_input": "2021-11-23T12:55:49.516984Z",
     "iopub.status.busy": "2021-11-23T12:55:49.516206Z",
     "iopub.status.idle": "2021-11-23T12:55:49.520184Z",
     "shell.execute_reply": "2021-11-23T12:55:49.519518Z",
     "shell.execute_reply.started": "2021-11-23T12:48:37.306192Z"
    },
    "papermill": {
     "duration": 0.039085,
     "end_time": "2021-11-23T12:55:49.520329",
     "exception": false,
     "start_time": "2021-11-23T12:55:49.481244",
     "status": "completed"
    },
    "tags": []
   },
   "outputs": [
    {
     "data": {
      "text/html": [
       "<div>\n",
       "<style scoped>\n",
       "    .dataframe tbody tr th:only-of-type {\n",
       "        vertical-align: middle;\n",
       "    }\n",
       "\n",
       "    .dataframe tbody tr th {\n",
       "        vertical-align: top;\n",
       "    }\n",
       "\n",
       "    .dataframe thead th {\n",
       "        text-align: right;\n",
       "    }\n",
       "</style>\n",
       "<table border=\"1\" class=\"dataframe\">\n",
       "  <thead>\n",
       "    <tr style=\"text-align: right;\">\n",
       "      <th></th>\n",
       "      <th>buying</th>\n",
       "      <th>maint</th>\n",
       "      <th>doors</th>\n",
       "      <th>persons</th>\n",
       "      <th>lug_boot</th>\n",
       "      <th>safety</th>\n",
       "      <th>class</th>\n",
       "    </tr>\n",
       "  </thead>\n",
       "  <tbody>\n",
       "    <tr>\n",
       "      <th>0</th>\n",
       "      <td>vhigh</td>\n",
       "      <td>vhigh</td>\n",
       "      <td>NaN</td>\n",
       "      <td>2</td>\n",
       "      <td>small</td>\n",
       "      <td>low</td>\n",
       "      <td>unacc</td>\n",
       "    </tr>\n",
       "    <tr>\n",
       "      <th>1</th>\n",
       "      <td>vhigh</td>\n",
       "      <td>vhigh</td>\n",
       "      <td>2</td>\n",
       "      <td>2</td>\n",
       "      <td>small</td>\n",
       "      <td>med</td>\n",
       "      <td>unacc</td>\n",
       "    </tr>\n",
       "    <tr>\n",
       "      <th>2</th>\n",
       "      <td>vhigh</td>\n",
       "      <td>vhigh</td>\n",
       "      <td>2</td>\n",
       "      <td>2</td>\n",
       "      <td>small</td>\n",
       "      <td>high</td>\n",
       "      <td>unacc</td>\n",
       "    </tr>\n",
       "    <tr>\n",
       "      <th>3</th>\n",
       "      <td>vhigh</td>\n",
       "      <td>vhigh</td>\n",
       "      <td>2</td>\n",
       "      <td>NaN</td>\n",
       "      <td>med</td>\n",
       "      <td>low</td>\n",
       "      <td>unacc</td>\n",
       "    </tr>\n",
       "    <tr>\n",
       "      <th>4</th>\n",
       "      <td>vhigh</td>\n",
       "      <td>vhigh</td>\n",
       "      <td>2</td>\n",
       "      <td>2</td>\n",
       "      <td>med</td>\n",
       "      <td>med</td>\n",
       "      <td>unacc</td>\n",
       "    </tr>\n",
       "  </tbody>\n",
       "</table>\n",
       "</div>"
      ],
      "text/plain": [
       "  buying  maint doors persons lug_boot safety  class\n",
       "0  vhigh  vhigh   NaN       2    small    low  unacc\n",
       "1  vhigh  vhigh     2       2    small    med  unacc\n",
       "2  vhigh  vhigh     2       2    small   high  unacc\n",
       "3  vhigh  vhigh     2     NaN      med    low  unacc\n",
       "4  vhigh  vhigh     2       2      med    med  unacc"
      ]
     },
     "execution_count": 20,
     "metadata": {},
     "output_type": "execute_result"
    }
   ],
   "source": [
    "# Modification des noms de colonne pour améliorer\n",
    "col_names = ['buying','maint','doors','persons','lug_boot','safety','class']\n",
    "data.columns = col_names\n",
    "data.head()"
   ]
  },
  {
   "cell_type": "code",
   "execution_count": 21,
   "id": "27ca927e",
   "metadata": {},
   "outputs": [
    {
     "data": {
      "text/plain": [
       "Index(['buying', 'maint', 'doors', 'persons', 'lug_boot', 'safety', 'class'], dtype='object')"
      ]
     },
     "execution_count": 21,
     "metadata": {},
     "output_type": "execute_result"
    }
   ],
   "source": [
    "data.columns"
   ]
  },
  {
   "cell_type": "code",
   "execution_count": 22,
   "id": "848af93d",
   "metadata": {
    "execution": {
     "iopub.execute_input": "2021-11-23T12:55:49.585762Z",
     "iopub.status.busy": "2021-11-23T12:55:49.584928Z",
     "iopub.status.idle": "2021-11-23T12:55:49.588244Z",
     "shell.execute_reply": "2021-11-23T12:55:49.587574Z",
     "shell.execute_reply.started": "2021-11-23T12:48:40.91751Z"
    },
    "id": "gsOi_UoutsXM",
    "outputId": "e077219e-58be-470a-f3a1-e2e35ed5875d",
    "papermill": {
     "duration": 0.045958,
     "end_time": "2021-11-23T12:55:49.588400",
     "exception": false,
     "start_time": "2021-11-23T12:55:49.542442",
     "status": "completed"
    },
    "scrolled": true,
    "tags": []
   },
   "outputs": [
    {
     "name": "stdout",
     "output_type": "stream",
     "text": [
      "<class 'pandas.core.frame.DataFrame'>\n",
      "RangeIndex: 1728 entries, 0 to 1727\n",
      "Data columns (total 7 columns):\n",
      " #   Column    Non-Null Count  Dtype \n",
      "---  ------    --------------  ----- \n",
      " 0   buying    1728 non-null   object\n",
      " 1   maint     1728 non-null   object\n",
      " 2   doors     1724 non-null   object\n",
      " 3   persons   1725 non-null   object\n",
      " 4   lug_boot  1728 non-null   object\n",
      " 5   safety    1728 non-null   object\n",
      " 6   class     1728 non-null   object\n",
      "dtypes: object(7)\n",
      "memory usage: 94.6+ KB\n"
     ]
    }
   ],
   "source": [
    "# affichage des informations de dataset\n",
    "data.info()"
   ]
  },
  {
   "cell_type": "code",
   "execution_count": 23,
   "id": "502f843f",
   "metadata": {
    "execution": {
     "iopub.execute_input": "2021-11-23T12:55:49.640268Z",
     "iopub.status.busy": "2021-11-23T12:55:49.638939Z",
     "iopub.status.idle": "2021-11-23T12:55:49.647113Z",
     "shell.execute_reply": "2021-11-23T12:55:49.646370Z",
     "shell.execute_reply.started": "2021-11-23T12:49:01.095499Z"
    },
    "id": "d3qPDdAnM_u3",
    "outputId": "703fea37-a1da-4644-e328-ecfc34601337",
    "papermill": {
     "duration": 0.036385,
     "end_time": "2021-11-23T12:55:49.647262",
     "exception": false,
     "start_time": "2021-11-23T12:55:49.610877",
     "status": "completed"
    },
    "tags": []
   },
   "outputs": [
    {
     "name": "stdout",
     "output_type": "stream",
     "text": [
      "Feature: maint with ['vhigh' 'high' 'med' 'low'] Levels\n",
      "Feature: doors with [nan '2' '3' '4' '5more'] Levels\n",
      "Feature: persons with ['2' nan '4' 'more'] Levels\n",
      "Feature: lug_boot with ['small' 'med' 'big'] Levels\n",
      "Feature: safety with ['low' 'med' 'high'] Levels\n",
      "Feature: class with ['unacc' 'acc' 'vgood' 'good'] Levels\n"
     ]
    }
   ],
   "source": [
    "#afficher les différentes valeurs uniques pour chaque colonne\n",
    "def show(data):\n",
    "  for i in data.columns[1:]:\n",
    "    print(\"Feature: {} with {} Levels\".format(i,data[i].unique()))\n",
    "show(data)"
   ]
  },
  {
   "cell_type": "code",
   "execution_count": 24,
   "id": "f9d12840",
   "metadata": {
    "execution": {
     "iopub.execute_input": "2021-11-23T12:55:49.747526Z",
     "iopub.status.busy": "2021-11-23T12:55:49.746831Z",
     "iopub.status.idle": "2021-11-23T12:55:49.750178Z",
     "shell.execute_reply": "2021-11-23T12:55:49.749548Z",
     "shell.execute_reply.started": "2021-11-23T12:48:58.024855Z"
    },
    "id": "r8Y4B4r8t4Z9",
    "outputId": "b2fc97aa-e4ac-450d-913a-851f3974e686",
    "papermill": {
     "duration": 0.034548,
     "end_time": "2021-11-23T12:55:49.750318",
     "exception": false,
     "start_time": "2021-11-23T12:55:49.715770",
     "status": "completed"
    },
    "tags": []
   },
   "outputs": [
    {
     "data": {
      "text/plain": [
       "buying      0\n",
       "maint       0\n",
       "doors       4\n",
       "persons     3\n",
       "lug_boot    0\n",
       "safety      0\n",
       "class       0\n",
       "dtype: int64"
      ]
     },
     "execution_count": 24,
     "metadata": {},
     "output_type": "execute_result"
    }
   ],
   "source": [
    "#compter le nombre de valeurs manquantes\n",
    "data.isnull().sum() "
   ]
  },
  {
   "cell_type": "code",
   "execution_count": 25,
   "id": "a81b84c5",
   "metadata": {},
   "outputs": [],
   "source": [
    "import warnings # Pour supprimer l'affichage des avertissements\n",
    "warnings.filterwarnings('ignore')"
   ]
  },
  {
   "cell_type": "code",
   "execution_count": 26,
   "id": "a0345fb9",
   "metadata": {
    "execution": {
     "iopub.execute_input": "2021-11-23T12:55:49.952963Z",
     "iopub.status.busy": "2021-11-23T12:55:49.952277Z",
     "iopub.status.idle": "2021-11-23T12:55:49.956524Z",
     "shell.execute_reply": "2021-11-23T12:55:49.955904Z",
     "shell.execute_reply.started": "2021-11-23T12:49:12.84701Z"
    },
    "id": "bvVAcWQl24zM",
    "outputId": "a5492980-4975-489c-ca54-60e12e4360e1",
    "papermill": {
     "duration": 0.033989,
     "end_time": "2021-11-23T12:55:49.956678",
     "exception": false,
     "start_time": "2021-11-23T12:55:49.922689",
     "status": "completed"
    },
    "tags": []
   },
   "outputs": [
    {
     "data": {
      "text/plain": [
       "buying      object\n",
       "maint       object\n",
       "doors       object\n",
       "persons     object\n",
       "lug_boot    object\n",
       "safety      object\n",
       "class       object\n",
       "dtype: object"
      ]
     },
     "execution_count": 26,
     "metadata": {},
     "output_type": "execute_result"
    }
   ],
   "source": [
    "#afficher les types de données (data types) de chaque colonn\n",
    "data.dtypes"
   ]
  },
  {
   "cell_type": "code",
   "execution_count": 27,
   "id": "5ad8d044",
   "metadata": {},
   "outputs": [],
   "source": [
    "def drop_all_nan_values(data): # j'ai définie ici une fonction s'appelle drop_all_nan_values et qui a pour parametre un jeu \n",
    "                                  #de données\n",
    "  #Vérifier combien de valeurs nan il y a pour chaque variable on utilisant la fonction \"isnull().sum()\" \n",
    "  print('=> Vérifier les valeurs nan : Avant \\n', data.isnull().sum())\n",
    "  # supprimer toutes les valeurs NaN et les remplacer par la moyenne pour les colonnes où il y'a des valeurs NaN.\n",
    "\n",
    "  data['doors'].fillna(data['doors'].mean(), inplace=True) \n",
    "  data['persons'].fillna(data['persons'].mean(), inplace=True)\n",
    "  # revérifier les valeurs NaN  \n",
    "  print('=>Vérifier les valeurs nan : Après \\n', data.isnull().sum())\n",
    "    \n",
    "#inplace utilisé en fonction de si nous voulons apporter des modifications à notre data"
   ]
  },
  {
   "cell_type": "code",
   "execution_count": 28,
   "id": "e5ea6aba",
   "metadata": {
    "execution": {
     "iopub.execute_input": "2021-11-23T12:55:50.016978Z",
     "iopub.status.busy": "2021-11-23T12:55:50.016290Z",
     "iopub.status.idle": "2021-11-23T12:55:50.047247Z",
     "shell.execute_reply": "2021-11-23T12:55:50.046674Z",
     "shell.execute_reply.started": "2021-11-23T12:49:16.245026Z"
    },
    "id": "FQTQdtD1tNlQ",
    "papermill": {
     "duration": 0.066504,
     "end_time": "2021-11-23T12:55:50.047389",
     "exception": false,
     "start_time": "2021-11-23T12:55:49.980885",
     "status": "completed"
    },
    "tags": []
   },
   "outputs": [
    {
     "data": {
      "text/html": [
       "<div>\n",
       "<style scoped>\n",
       "    .dataframe tbody tr th:only-of-type {\n",
       "        vertical-align: middle;\n",
       "    }\n",
       "\n",
       "    .dataframe tbody tr th {\n",
       "        vertical-align: top;\n",
       "    }\n",
       "\n",
       "    .dataframe thead th {\n",
       "        text-align: right;\n",
       "    }\n",
       "</style>\n",
       "<table border=\"1\" class=\"dataframe\">\n",
       "  <thead>\n",
       "    <tr style=\"text-align: right;\">\n",
       "      <th></th>\n",
       "      <th>buying</th>\n",
       "      <th>maint</th>\n",
       "      <th>doors</th>\n",
       "      <th>persons</th>\n",
       "      <th>lug_boot</th>\n",
       "      <th>safety</th>\n",
       "      <th>class</th>\n",
       "    </tr>\n",
       "  </thead>\n",
       "  <tbody>\n",
       "    <tr>\n",
       "      <th>0</th>\n",
       "      <td>1</td>\n",
       "      <td>1</td>\n",
       "      <td>5</td>\n",
       "      <td>1</td>\n",
       "      <td>1</td>\n",
       "      <td>1</td>\n",
       "      <td>1</td>\n",
       "    </tr>\n",
       "    <tr>\n",
       "      <th>1</th>\n",
       "      <td>1</td>\n",
       "      <td>1</td>\n",
       "      <td>1</td>\n",
       "      <td>1</td>\n",
       "      <td>1</td>\n",
       "      <td>2</td>\n",
       "      <td>1</td>\n",
       "    </tr>\n",
       "    <tr>\n",
       "      <th>2</th>\n",
       "      <td>1</td>\n",
       "      <td>1</td>\n",
       "      <td>1</td>\n",
       "      <td>1</td>\n",
       "      <td>1</td>\n",
       "      <td>3</td>\n",
       "      <td>1</td>\n",
       "    </tr>\n",
       "    <tr>\n",
       "      <th>3</th>\n",
       "      <td>1</td>\n",
       "      <td>1</td>\n",
       "      <td>1</td>\n",
       "      <td>4</td>\n",
       "      <td>2</td>\n",
       "      <td>1</td>\n",
       "      <td>1</td>\n",
       "    </tr>\n",
       "    <tr>\n",
       "      <th>4</th>\n",
       "      <td>1</td>\n",
       "      <td>1</td>\n",
       "      <td>1</td>\n",
       "      <td>1</td>\n",
       "      <td>2</td>\n",
       "      <td>2</td>\n",
       "      <td>1</td>\n",
       "    </tr>\n",
       "  </tbody>\n",
       "</table>\n",
       "</div>"
      ],
      "text/plain": [
       "   buying  maint  doors  persons  lug_boot  safety  class\n",
       "0       1      1      5        1         1       1      1\n",
       "1       1      1      1        1         1       2      1\n",
       "2       1      1      1        1         1       3      1\n",
       "3       1      1      1        4         2       1      1\n",
       "4       1      1      1        1         2       2      1"
      ]
     },
     "execution_count": 28,
     "metadata": {},
     "output_type": "execute_result"
    }
   ],
   "source": [
    "#  encoder les variables catégorielles du DataFrame data en variables numériques\n",
    "encoder = ce.OrdinalEncoder(cols = ['buying','maint','doors','persons','lug_boot','safety','class'])\n",
    "data = encoder.fit_transform(data)\n",
    "data.head()"
   ]
  },
  {
   "cell_type": "code",
   "execution_count": 29,
   "id": "e5033f62",
   "metadata": {},
   "outputs": [
    {
     "name": "stdout",
     "output_type": "stream",
     "text": [
      "      buying  maint  doors  persons  lug_boot  safety  class\n",
      "599        2      2      3        1         2       3      1\n",
      "1201       3      4      1        2         2       2      2\n",
      "628        2      2      4        1         3       2      1\n",
      "1498       4      2      4        2         2       2      2\n",
      "1263       3      4      3        3         2       1      1\n",
      "...      ...    ...    ...      ...       ...     ...    ...\n",
      "1130       3      3      2        3         2       3      3\n",
      "1294       3      4      4        3         3       2      4\n",
      "860        2      4      4        3         2       3      2\n",
      "1459       4      2      3        1         1       2      1\n",
      "1126       3      3      2        3         1       2      2\n",
      "\n",
      "[1728 rows x 7 columns]\n"
     ]
    }
   ],
   "source": [
    "data = pd.DataFrame(data)\n",
    "\n",
    "# Mélanger les données (sélectionner un échantillon aléatoire)\n",
    "df_shuffled = data.sample(frac=1, random_state=42)\n",
    "\n",
    "# Afficher le DataFrame mélangé\n",
    "print(df_shuffled)"
   ]
  },
  {
   "cell_type": "code",
   "execution_count": 30,
   "id": "0fd81523",
   "metadata": {},
   "outputs": [
    {
     "data": {
      "text/plain": [
       "(1728, 7)"
      ]
     },
     "execution_count": 30,
     "metadata": {},
     "output_type": "execute_result"
    }
   ],
   "source": [
    "data.shape"
   ]
  },
  {
   "cell_type": "code",
   "execution_count": 31,
   "id": "21647c5c",
   "metadata": {},
   "outputs": [
    {
     "data": {
      "text/html": [
       "<div>\n",
       "<style scoped>\n",
       "    .dataframe tbody tr th:only-of-type {\n",
       "        vertical-align: middle;\n",
       "    }\n",
       "\n",
       "    .dataframe tbody tr th {\n",
       "        vertical-align: top;\n",
       "    }\n",
       "\n",
       "    .dataframe thead th {\n",
       "        text-align: right;\n",
       "    }\n",
       "</style>\n",
       "<table border=\"1\" class=\"dataframe\">\n",
       "  <thead>\n",
       "    <tr style=\"text-align: right;\">\n",
       "      <th></th>\n",
       "      <th>buying</th>\n",
       "      <th>maint</th>\n",
       "      <th>doors</th>\n",
       "      <th>persons</th>\n",
       "      <th>lug_boot</th>\n",
       "      <th>safety</th>\n",
       "      <th>class</th>\n",
       "    </tr>\n",
       "  </thead>\n",
       "  <tbody>\n",
       "    <tr>\n",
       "      <th>count</th>\n",
       "      <td>1728.000000</td>\n",
       "      <td>1728.000000</td>\n",
       "      <td>1728.000000</td>\n",
       "      <td>1728.000000</td>\n",
       "      <td>1728.000000</td>\n",
       "      <td>1728.000000</td>\n",
       "      <td>1728.000000</td>\n",
       "    </tr>\n",
       "    <tr>\n",
       "      <th>mean</th>\n",
       "      <td>2.500000</td>\n",
       "      <td>2.500000</td>\n",
       "      <td>2.507523</td>\n",
       "      <td>2.004630</td>\n",
       "      <td>2.000000</td>\n",
       "      <td>2.000000</td>\n",
       "      <td>1.417245</td>\n",
       "    </tr>\n",
       "    <tr>\n",
       "      <th>std</th>\n",
       "      <td>1.118358</td>\n",
       "      <td>1.118358</td>\n",
       "      <td>1.123498</td>\n",
       "      <td>0.820257</td>\n",
       "      <td>0.816733</td>\n",
       "      <td>0.816733</td>\n",
       "      <td>0.747188</td>\n",
       "    </tr>\n",
       "    <tr>\n",
       "      <th>min</th>\n",
       "      <td>1.000000</td>\n",
       "      <td>1.000000</td>\n",
       "      <td>1.000000</td>\n",
       "      <td>1.000000</td>\n",
       "      <td>1.000000</td>\n",
       "      <td>1.000000</td>\n",
       "      <td>1.000000</td>\n",
       "    </tr>\n",
       "    <tr>\n",
       "      <th>25%</th>\n",
       "      <td>1.750000</td>\n",
       "      <td>1.750000</td>\n",
       "      <td>2.000000</td>\n",
       "      <td>1.000000</td>\n",
       "      <td>1.000000</td>\n",
       "      <td>1.000000</td>\n",
       "      <td>1.000000</td>\n",
       "    </tr>\n",
       "    <tr>\n",
       "      <th>50%</th>\n",
       "      <td>2.500000</td>\n",
       "      <td>2.500000</td>\n",
       "      <td>3.000000</td>\n",
       "      <td>2.000000</td>\n",
       "      <td>2.000000</td>\n",
       "      <td>2.000000</td>\n",
       "      <td>1.000000</td>\n",
       "    </tr>\n",
       "    <tr>\n",
       "      <th>75%</th>\n",
       "      <td>3.250000</td>\n",
       "      <td>3.250000</td>\n",
       "      <td>4.000000</td>\n",
       "      <td>3.000000</td>\n",
       "      <td>3.000000</td>\n",
       "      <td>3.000000</td>\n",
       "      <td>2.000000</td>\n",
       "    </tr>\n",
       "    <tr>\n",
       "      <th>max</th>\n",
       "      <td>4.000000</td>\n",
       "      <td>4.000000</td>\n",
       "      <td>5.000000</td>\n",
       "      <td>4.000000</td>\n",
       "      <td>3.000000</td>\n",
       "      <td>3.000000</td>\n",
       "      <td>4.000000</td>\n",
       "    </tr>\n",
       "  </tbody>\n",
       "</table>\n",
       "</div>"
      ],
      "text/plain": [
       "            buying        maint        doors      persons     lug_boot  \\\n",
       "count  1728.000000  1728.000000  1728.000000  1728.000000  1728.000000   \n",
       "mean      2.500000     2.500000     2.507523     2.004630     2.000000   \n",
       "std       1.118358     1.118358     1.123498     0.820257     0.816733   \n",
       "min       1.000000     1.000000     1.000000     1.000000     1.000000   \n",
       "25%       1.750000     1.750000     2.000000     1.000000     1.000000   \n",
       "50%       2.500000     2.500000     3.000000     2.000000     2.000000   \n",
       "75%       3.250000     3.250000     4.000000     3.000000     3.000000   \n",
       "max       4.000000     4.000000     5.000000     4.000000     3.000000   \n",
       "\n",
       "            safety        class  \n",
       "count  1728.000000  1728.000000  \n",
       "mean      2.000000     1.417245  \n",
       "std       0.816733     0.747188  \n",
       "min       1.000000     1.000000  \n",
       "25%       1.000000     1.000000  \n",
       "50%       2.000000     1.000000  \n",
       "75%       3.000000     2.000000  \n",
       "max       3.000000     4.000000  "
      ]
     },
     "execution_count": 31,
     "metadata": {},
     "output_type": "execute_result"
    }
   ],
   "source": [
    "#faire des statistique sur les données \n",
    "data.describe()"
   ]
  },
  {
   "cell_type": "markdown",
   "id": "77a2d5c6",
   "metadata": {},
   "source": [
    "### Séléction des features"
   ]
  },
  {
   "cell_type": "code",
   "execution_count": 32,
   "id": "3289bc4c",
   "metadata": {
    "execution": {
     "iopub.execute_input": "2021-11-23T12:55:50.147977Z",
     "iopub.status.busy": "2021-11-23T12:55:50.147285Z",
     "iopub.status.idle": "2021-11-23T12:55:50.160191Z",
     "shell.execute_reply": "2021-11-23T12:55:50.160863Z",
     "shell.execute_reply.started": "2021-11-23T12:49:46.635019Z"
    },
    "id": "4uafW1Ug3oOS",
    "outputId": "3afab691-42da-424b-efad-df46707b9309",
    "papermill": {
     "duration": 0.040916,
     "end_time": "2021-11-23T12:55:50.161055",
     "exception": false,
     "start_time": "2021-11-23T12:55:50.120139",
     "status": "completed"
    },
    "tags": []
   },
   "outputs": [
    {
     "data": {
      "text/html": [
       "<div>\n",
       "<style scoped>\n",
       "    .dataframe tbody tr th:only-of-type {\n",
       "        vertical-align: middle;\n",
       "    }\n",
       "\n",
       "    .dataframe tbody tr th {\n",
       "        vertical-align: top;\n",
       "    }\n",
       "\n",
       "    .dataframe thead th {\n",
       "        text-align: right;\n",
       "    }\n",
       "</style>\n",
       "<table border=\"1\" class=\"dataframe\">\n",
       "  <thead>\n",
       "    <tr style=\"text-align: right;\">\n",
       "      <th></th>\n",
       "      <th>buying</th>\n",
       "      <th>maint</th>\n",
       "      <th>doors</th>\n",
       "      <th>persons</th>\n",
       "      <th>lug_boot</th>\n",
       "      <th>safety</th>\n",
       "    </tr>\n",
       "  </thead>\n",
       "  <tbody>\n",
       "    <tr>\n",
       "      <th>0</th>\n",
       "      <td>1</td>\n",
       "      <td>1</td>\n",
       "      <td>5</td>\n",
       "      <td>1</td>\n",
       "      <td>1</td>\n",
       "      <td>1</td>\n",
       "    </tr>\n",
       "    <tr>\n",
       "      <th>1</th>\n",
       "      <td>1</td>\n",
       "      <td>1</td>\n",
       "      <td>1</td>\n",
       "      <td>1</td>\n",
       "      <td>1</td>\n",
       "      <td>2</td>\n",
       "    </tr>\n",
       "    <tr>\n",
       "      <th>2</th>\n",
       "      <td>1</td>\n",
       "      <td>1</td>\n",
       "      <td>1</td>\n",
       "      <td>1</td>\n",
       "      <td>1</td>\n",
       "      <td>3</td>\n",
       "    </tr>\n",
       "    <tr>\n",
       "      <th>3</th>\n",
       "      <td>1</td>\n",
       "      <td>1</td>\n",
       "      <td>1</td>\n",
       "      <td>4</td>\n",
       "      <td>2</td>\n",
       "      <td>1</td>\n",
       "    </tr>\n",
       "    <tr>\n",
       "      <th>4</th>\n",
       "      <td>1</td>\n",
       "      <td>1</td>\n",
       "      <td>1</td>\n",
       "      <td>1</td>\n",
       "      <td>2</td>\n",
       "      <td>2</td>\n",
       "    </tr>\n",
       "    <tr>\n",
       "      <th>...</th>\n",
       "      <td>...</td>\n",
       "      <td>...</td>\n",
       "      <td>...</td>\n",
       "      <td>...</td>\n",
       "      <td>...</td>\n",
       "      <td>...</td>\n",
       "    </tr>\n",
       "    <tr>\n",
       "      <th>1723</th>\n",
       "      <td>4</td>\n",
       "      <td>4</td>\n",
       "      <td>4</td>\n",
       "      <td>3</td>\n",
       "      <td>2</td>\n",
       "      <td>2</td>\n",
       "    </tr>\n",
       "    <tr>\n",
       "      <th>1724</th>\n",
       "      <td>4</td>\n",
       "      <td>4</td>\n",
       "      <td>4</td>\n",
       "      <td>3</td>\n",
       "      <td>2</td>\n",
       "      <td>3</td>\n",
       "    </tr>\n",
       "    <tr>\n",
       "      <th>1725</th>\n",
       "      <td>4</td>\n",
       "      <td>4</td>\n",
       "      <td>4</td>\n",
       "      <td>3</td>\n",
       "      <td>3</td>\n",
       "      <td>1</td>\n",
       "    </tr>\n",
       "    <tr>\n",
       "      <th>1726</th>\n",
       "      <td>4</td>\n",
       "      <td>4</td>\n",
       "      <td>4</td>\n",
       "      <td>3</td>\n",
       "      <td>3</td>\n",
       "      <td>2</td>\n",
       "    </tr>\n",
       "    <tr>\n",
       "      <th>1727</th>\n",
       "      <td>4</td>\n",
       "      <td>4</td>\n",
       "      <td>4</td>\n",
       "      <td>3</td>\n",
       "      <td>3</td>\n",
       "      <td>3</td>\n",
       "    </tr>\n",
       "  </tbody>\n",
       "</table>\n",
       "<p>1728 rows × 6 columns</p>\n",
       "</div>"
      ],
      "text/plain": [
       "      buying  maint  doors  persons  lug_boot  safety\n",
       "0          1      1      5        1         1       1\n",
       "1          1      1      1        1         1       2\n",
       "2          1      1      1        1         1       3\n",
       "3          1      1      1        4         2       1\n",
       "4          1      1      1        1         2       2\n",
       "...      ...    ...    ...      ...       ...     ...\n",
       "1723       4      4      4        3         2       2\n",
       "1724       4      4      4        3         2       3\n",
       "1725       4      4      4        3         3       1\n",
       "1726       4      4      4        3         3       2\n",
       "1727       4      4      4        3         3       3\n",
       "\n",
       "[1728 rows x 6 columns]"
      ]
     },
     "execution_count": 32,
     "metadata": {},
     "output_type": "execute_result"
    }
   ],
   "source": [
    "# ici on va stoker dans la variable x l'ensemble des variables explicatives sans le variable à expliqué.\n",
    "#la fonction drop il va supprimer le vriable class suivant axis=1, c'est à dire les colonnes de gauche à droite\n",
    "\n",
    "x= data.drop(['class'], axis = 1)\n",
    "x"
   ]
  },
  {
   "cell_type": "code",
   "execution_count": 33,
   "id": "20a41675",
   "metadata": {},
   "outputs": [
    {
     "data": {
      "text/plain": [
       "0       1\n",
       "1       1\n",
       "2       1\n",
       "3       1\n",
       "4       1\n",
       "       ..\n",
       "1723    4\n",
       "1724    3\n",
       "1725    1\n",
       "1726    4\n",
       "1727    3\n",
       "Name: class, Length: 1728, dtype: int32"
      ]
     },
     "execution_count": 33,
     "metadata": {},
     "output_type": "execute_result"
    }
   ],
   "source": [
    "\n",
    "y = data['class']\n",
    "y"
   ]
  },
  {
   "cell_type": "code",
   "execution_count": 34,
   "id": "d4daaaee",
   "metadata": {},
   "outputs": [
    {
     "data": {
      "text/plain": [
       "(1728, 6)"
      ]
     },
     "execution_count": 34,
     "metadata": {},
     "output_type": "execute_result"
    }
   ],
   "source": [
    "x.shape"
   ]
  },
  {
   "cell_type": "code",
   "execution_count": 35,
   "id": "42bdf70f",
   "metadata": {},
   "outputs": [
    {
     "data": {
      "text/plain": [
       "1    1210\n",
       "2     384\n",
       "4      69\n",
       "3      65\n",
       "Name: class, dtype: int64"
      ]
     },
     "execution_count": 35,
     "metadata": {},
     "output_type": "execute_result"
    }
   ],
   "source": [
    "#pour savoir parmi ces 1728 voiture, le nombre de voiture qui'on en 1 er classe, en 2 eme classe, en 3eme classe et en 4 eme classe\n",
    "\n",
    "data['class'].value_counts()"
   ]
  },
  {
   "cell_type": "code",
   "execution_count": 36,
   "id": "6812a53b",
   "metadata": {},
   "outputs": [
    {
     "data": {
      "text/plain": [
       "<Axes: >"
      ]
     },
     "execution_count": 36,
     "metadata": {},
     "output_type": "execute_result"
    },
    {
     "data": {
      "image/png": "[encoded data removed]",
      "text/plain": [
       "<Figure size 640x480 with 1 Axes>"
      ]
     },
     "metadata": {},
     "output_type": "display_data"
    }
   ],
   "source": [
    "#les valeurs par classes en graphique matplotlib, car pandas est en coloboration avec matplotlib\n",
    "data['class'].value_counts().plot.bar()"
   ]
  },
  {
   "cell_type": "code",
   "execution_count": 37,
   "id": "32a6c77f",
   "metadata": {},
   "outputs": [
    {
     "data": {
      "text/plain": [
       "<Axes: xlabel='class', ylabel='persons'>"
      ]
     },
     "execution_count": 37,
     "metadata": {},
     "output_type": "execute_result"
    },
    {
     "data": {
      "image/png": "[encoded data removed]",
      "text/plain": [
       "<Figure size 640x480 with 1 Axes>"
      ]
     },
     "metadata": {},
     "output_type": "display_data"
    }
   ],
   "source": [
    "#visualiser les classes des evaluations en fonction du variables expliquative \"persons\" en utilisant seaborn\n",
    "sns.barplot(x='class',y='persons',data=data)"
   ]
  },
  {
   "cell_type": "code",
   "execution_count": 38,
   "id": "498e11d9",
   "metadata": {},
   "outputs": [
    {
     "data": {
      "text/plain": [
       "<Axes: xlabel='class', ylabel='safety'>"
      ]
     },
     "execution_count": 38,
     "metadata": {},
     "output_type": "execute_result"
    },
    {
     "data": {
      "image/png": "[encoded data removed]",
      "text/plain": [
       "<Figure size 640x480 with 1 Axes>"
      ]
     },
     "metadata": {},
     "output_type": "display_data"
    }
   ],
   "source": [
    "sns.barplot(x='class',y='safety',data=data)"
   ]
  },
  {
   "cell_type": "markdown",
   "id": "aeb11735",
   "metadata": {},
   "source": [
    "# <font color=\"blue\"> la répartition des features sur un histogramme:</font>\n",
    "visualisation des données en désignant  des histogrammes "
   ]
  },
  {
   "cell_type": "markdown",
   "id": "3c9d848c",
   "metadata": {},
   "source": [
    "-->la fonction dataframe.hist est utile pour comprendre la distribution des variables numériques.\n",
    "-->La distribution des données est représentée par l’histogramme.\n",
    "-->Lorsque Function Pandas DataFrame.hist() est utilisé, il appelle automatiquement la fonction matplotlib.pyplot.hist() \n",
    "    sur chaque série dans le DataFrame. En conséquence, nous avons obtenu un histogramme par colonne."
   ]
  },
  {
   "cell_type": "code",
   "execution_count": 23,
   "id": "ade90003",
   "metadata": {},
   "outputs": [
    {
     "name": "stdout",
     "output_type": "stream",
     "text": [
      "----------------Analyse des attributs----------------------\n"
     ]
    },
    {
     "data": {
      "image/png": "[encoded data removed]",
      "text/plain": [
       "<Figure size 2400x2400 with 9 Axes>"
      ]
     },
     "metadata": {},
     "output_type": "display_data"
    }
   ],
   "source": [
    "import matplotlib.pyplot as plt\n",
    "print(\"----------------Analyse des attributs----------------------\")\n",
    "# Afficher l'histogramme des attributs\n",
    "data.hist(sharex=False, sharey=False, figsize=(24, 24))\n",
    "plt.show()"
   ]
  },
  {
   "cell_type": "markdown",
   "id": "9b2d6840",
   "metadata": {},
   "source": [
    "# <font color=\"blue\"> Traçage de la boite à moustaches:</font>"
   ]
  },
  {
   "cell_type": "markdown",
   "id": "3df290d8",
   "metadata": {},
   "source": [
    "Définition:La boîte à moustaches résume quelques indicateurs de position du caractère étudié (médiane, quartiles, minimum, maximum ou déciles) et montre la distribution des données."
   ]
  },
  {
   "cell_type": "code",
   "execution_count": 24,
   "id": "85edeaa0",
   "metadata": {},
   "outputs": [
    {
     "data": {
      "text/plain": [
       "<AxesSubplot:>"
      ]
     },
     "execution_count": 24,
     "metadata": {},
     "output_type": "execute_result"
    },
    {
     "data": {
      "image/png": "[encoded data removed]",
      "text/plain": [
       "<Figure size 1500x400 with 1 Axes>"
      ]
     },
     "metadata": {},
     "output_type": "display_data"
    }
   ],
   "source": [
    "sort_by_mean=x.mean().sort_values(ascending=True)\n",
    "x[sort_by_mean.index].plot(kind='box',figsize=(15,4),rot=90,ylabel='')"
   ]
  },
  {
   "cell_type": "markdown",
   "id": "3f4de4d0",
   "metadata": {},
   "source": [
    "A partir de ce graphe on peut dire que:\n",
    "-la variation des variables sont répartie dans le meme echelle.\n",
    "-Il n'y a pas des valeurs aberrantes dans tous les colonnes  "
   ]
  },
  {
   "cell_type": "markdown",
   "id": "a01b224f",
   "metadata": {},
   "source": [
    "# <font color=\"blue\">La matrice de corrélation:</font>\n"
   ]
  },
  {
   "cell_type": "markdown",
   "id": "b766949f",
   "metadata": {},
   "source": [
    "La matrice de corrélation est utilisée pour évaluer la dépendence entre plusieurs variables en même temps. Le résultat est une \n",
    "table contenant les coefficients de corrélation entre chaque variable."
   ]
  },
  {
   "cell_type": "code",
   "execution_count": 25,
   "id": "d75d5c62",
   "metadata": {},
   "outputs": [
    {
     "data": {
      "image/png": "[encoded data removed]",
      "text/plain": [
       "<Figure size 1000x800 with 2 Axes>"
      ]
     },
     "metadata": {},
     "output_type": "display_data"
    }
   ],
   "source": [
    "data = pd.DataFrame(data)\n",
    "\n",
    "# Calculer la matrice de corrélation\n",
    "correlation_matrix = data.corr()\n",
    "\n",
    "# Afficher une heatmap de la matrice de corrélation\n",
    "plt.figure(figsize=(10, 8))\n",
    "sns.heatmap(correlation_matrix, annot=True, cmap='coolwarm', fmt=\".2f\")\n",
    "plt.title(\"Matrice de corrélation\")\n",
    "plt.show()"
   ]
  },
  {
   "cell_type": "markdown",
   "id": "afd52cde",
   "metadata": {},
   "source": [
    "#  <font color=\"blue\"> Visuliser la corrélation en nous ne considérons pas les corrélations entre variables explicatives X entre elles</font>\n"
   ]
  },
  {
   "cell_type": "code",
   "execution_count": 26,
   "id": "e740c148",
   "metadata": {},
   "outputs": [
    {
     "data": {
      "text/plain": [
       "Text(0.5, 1.0, 'Correlation entre les attributes et la class')"
      ]
     },
     "execution_count": 26,
     "metadata": {},
     "output_type": "execute_result"
    },
    {
     "data": {
      "image/png": "[encoded data removed]",
      "text/plain": [
       "<Figure size 640x480 with 1 Axes>"
      ]
     },
     "metadata": {},
     "output_type": "display_data"
    }
   ],
   "source": [
    "corr = data.corr()\n",
    "correlation_with_class = corr['class']\n",
    "cr = correlation_with_class.sort_values(ascending=False)[1:]\n",
    "sns.barplot(x=cr, y=cr.index, palette=\"bright\")\n",
    "plt.title(\"Correlation entre les attributes et la class\")\n"
   ]
  },
  {
   "cell_type": "markdown",
   "id": "bb0bd502",
   "metadata": {},
   "source": [
    "On remarque qu'il y a une forte corrélation entre la safety et la class, et la corrélation entre les cless et varaibles (persons,\n",
    "buying,maint) est plus moins."
   ]
  },
  {
   "cell_type": "markdown",
   "id": "a637e871",
   "metadata": {},
   "source": [
    "# 4.Application des l'algorithmes \n"
   ]
  },
  {
   "cell_type": "markdown",
   "id": "d5322544",
   "metadata": {
    "id": "5yj8bH9YADzk",
    "papermill": {
     "duration": 0.024023,
     "end_time": "2021-11-23T12:55:50.260732",
     "exception": false,
     "start_time": "2021-11-23T12:55:50.236709",
     "status": "completed"
    },
    "tags": []
   },
   "source": [
    "##### Creating Evaluation Parametric Function"
   ]
  },
  {
   "cell_type": "code",
   "execution_count": 27,
   "id": "02e580c0",
   "metadata": {},
   "outputs": [],
   "source": [
    "from sklearn.model_selection import train_test_split\n",
    "from sklearn.linear_model import LogisticRegression\n",
    "from sklearn.tree import DecisionTreeClassifier\n",
    "from sklearn.ensemble import RandomForestClassifier\n",
    "from sklearn.svm import SVC\n",
    "from sklearn.neighbors import KNeighborsClassifier\n",
    "from sklearn.metrics import recall_score, precision_score, accuracy_score, plot_confusion_matrix, classification_report, f1_score,matthews_corrcoef\n",
    "from sklearn.model_selection import learning_curve"
   ]
  },
  {
   "cell_type": "code",
   "execution_count": 28,
   "id": "1f1b0596",
   "metadata": {},
   "outputs": [
    {
     "name": "stdout",
     "output_type": "stream",
     "text": [
      "X_train: (1209, 6)\n",
      "X_test: (519, 6)\n",
      "Y_train: (1209,)\n",
      "Y_test: (519,)\n"
     ]
    }
   ],
   "source": [
    "x = data.drop(['class'], axis = 1)\n",
    "y = data['class']\n",
    "\n",
    "x_train, x_test, y_train, y_test = train_test_split(x, y, test_size = 0.3, random_state = 42)\n",
    "print(\"X_train: {}\".format(x_train.shape))\n",
    "print(\"X_test: {}\".format(x_test.shape))\n",
    "print(\"Y_train: {}\".format(y_train.shape))\n",
    "print(\"Y_test: {}\".format(y_test.shape))"
   ]
  },
  {
   "cell_type": "markdown",
   "id": "13f31f2c",
   "metadata": {
    "id": "AVOHurm_4wR9",
    "papermill": {
     "duration": 0.02436,
     "end_time": "2021-11-23T12:55:50.373228",
     "exception": false,
     "start_time": "2021-11-23T12:55:50.348868",
     "status": "completed"
    },
    "tags": []
   },
   "source": [
    "##### 1. Logistics Regression"
   ]
  },
  {
   "cell_type": "code",
   "execution_count": 29,
   "id": "2da12e81",
   "metadata": {},
   "outputs": [
    {
     "name": "stdout",
     "output_type": "stream",
     "text": [
      "Classification Report for Train Data:\n",
      "              precision    recall  f1-score   support\n",
      "\n",
      "           1       0.88      0.93      0.91       852\n",
      "           2       0.67      0.58      0.62       266\n",
      "           3       0.79      0.63      0.70        41\n",
      "           4       0.53      0.38      0.44        50\n",
      "\n",
      "    accuracy                           0.82      1209\n",
      "   macro avg       0.71      0.63      0.67      1209\n",
      "weighted avg       0.81      0.82      0.82      1209\n",
      "\n",
      "Classification Report for Test Data:\n",
      "              precision    recall  f1-score   support\n",
      "\n",
      "           1       0.87      0.93      0.90       358\n",
      "           2       0.66      0.57      0.61       118\n",
      "           3       0.75      0.75      0.75        24\n",
      "           4       0.55      0.32      0.40        19\n",
      "\n",
      "    accuracy                           0.82       519\n",
      "   macro avg       0.71      0.64      0.66       519\n",
      "weighted avg       0.81      0.82      0.81       519\n",
      "\n"
     ]
    }
   ],
   "source": [
    "# Création du modèle de régression logistique\n",
    "lr = LogisticRegression(max_iter=1000, random_state=48)\n",
    "\n",
    "# Entraînement du modèle sur les données d'entraînement\n",
    "lr.fit(x_train, y_train)\n",
    "\n",
    "# Prédiction sur les données d'entraînement et de test\n",
    "yp_train = lr.predict(x_train)\n",
    "yp_test = lr.predict(x_test)\n",
    "\n",
    "# Affichage du rapport de classification pour les données d'entraînement\n",
    "result_train = classification_report(y_train, yp_train)\n",
    "print(\"Classification Report for Train Data:\")\n",
    "print(result_train)\n",
    "\n",
    "# Affichage du rapport de classification pour les données de test\n",
    "result_test = classification_report(y_test, yp_test)\n",
    "print(\"Classification Report for Test Data:\")\n",
    "print(result_test)\n"
   ]
  },
  {
   "cell_type": "code",
   "execution_count": 30,
   "id": "fec14a12",
   "metadata": {},
   "outputs": [
    {
     "name": "stdout",
     "output_type": "stream",
     "text": [
      "F1: 0.8169556840077071\n",
      "MCC: 0.5916116185036464\n"
     ]
    }
   ],
   "source": [
    "f1_LR= f1_score(y_test, yp_test,average='micro')\n",
    "MCC_LR= matthews_corrcoef(y_test, yp_test)\n",
    "print('F1:',f1_LR)\n",
    "print('MCC:',MCC_LR)"
   ]
  },
  {
   "cell_type": "code",
   "execution_count": 31,
   "id": "af84a40a",
   "metadata": {},
   "outputs": [
    {
     "name": "stdout",
     "output_type": "stream",
     "text": [
      "[ 96 193 290 386 483 580 676 773 870 967]\n"
     ]
    },
    {
     "data": {
      "image/png": "[encoded data removed]",
      "text/plain": [
       "<Figure size 800x600 with 1 Axes>"
      ]
     },
     "metadata": {},
     "output_type": "display_data"
    }
   ],
   "source": [
    "N, train_score, val_score = learning_curve(lr,x_train,y_train, train_sizes=np.linspace(0.1, 1, 10),cv=5)\n",
    "print(N)\n",
    "plt.figure(figsize=(8, 6))\n",
    "plt.plot(N, train_score.mean(axis=1), label='train score')\n",
    "plt.plot(N, val_score.mean(axis=1), label='validation score')\n",
    "plt.legend()\n",
    "plt.show()\n"
   ]
  },
  {
   "cell_type": "markdown",
   "id": "2604d6ef",
   "metadata": {
    "id": "uO66sXny9Q-9",
    "papermill": {
     "duration": 0.024687,
     "end_time": "2021-11-23T12:55:50.835654",
     "exception": false,
     "start_time": "2021-11-23T12:55:50.810967",
     "status": "completed"
    },
    "tags": []
   },
   "source": [
    "##### 2. Decision Tree"
   ]
  },
  {
   "cell_type": "code",
   "execution_count": 32,
   "id": "825a45dc",
   "metadata": {},
   "outputs": [
    {
     "name": "stdout",
     "output_type": "stream",
     "text": [
      "Classification Report for Train Data:\n",
      "              precision    recall  f1-score   support\n",
      "\n",
      "           1       0.98      0.97      0.98       852\n",
      "           2       0.86      0.94      0.90       266\n",
      "           3       0.93      0.68      0.79        41\n",
      "           4       0.81      0.76      0.78        50\n",
      "\n",
      "    accuracy                           0.95      1209\n",
      "   macro avg       0.90      0.84      0.86      1209\n",
      "weighted avg       0.95      0.95      0.95      1209\n",
      "\n",
      "Classification Report for Test Data:\n",
      "              precision    recall  f1-score   support\n",
      "\n",
      "           1       0.97      0.98      0.97       358\n",
      "           2       0.86      0.81      0.83       118\n",
      "           3       0.77      0.83      0.80        24\n",
      "           4       0.52      0.58      0.55        19\n",
      "\n",
      "    accuracy                           0.92       519\n",
      "   macro avg       0.78      0.80      0.79       519\n",
      "weighted avg       0.92      0.92      0.92       519\n",
      "\n"
     ]
    }
   ],
   "source": [
    "# Création du modèle de régression logistique\n",
    "dt = DecisionTreeClassifier(max_depth = 7,random_state = 48)\n",
    "\n",
    "# Entraînement du modèle sur les données d'entraînement\n",
    "dt.fit(x_train,y_train)\n",
    "\n",
    "# Prédiction sur les données d'entraînement et de test\n",
    "yp_train = dt.predict(x_train)\n",
    "yp_test = dt.predict(x_test)\n",
    "\n",
    "# Affichage du rapport de classification pour les données d'entraînement\n",
    "result_train = classification_report(y_train, yp_train)\n",
    "print(\"Classification Report for Train Data:\")\n",
    "print(result_train)\n",
    "\n",
    "# Affichage du rapport de classification pour les données de test\n",
    "result_test = classification_report(y_test, yp_test)\n",
    "print(\"Classification Report for Test Data:\")\n",
    "print(result_test)\n"
   ]
  },
  {
   "cell_type": "code",
   "execution_count": 33,
   "id": "c259e86f",
   "metadata": {},
   "outputs": [
    {
     "name": "stdout",
     "output_type": "stream",
     "text": [
      "F1: 0.9171483622350675\n",
      "MCC: 0.823102827214056\n"
     ]
    }
   ],
   "source": [
    "f1_DT= f1_score(y_test, yp_test,average='micro')\n",
    "MCC_DT= matthews_corrcoef(y_test, yp_test)\n",
    "print('F1:',f1_DT)\n",
    "print('MCC:',MCC_DT)"
   ]
  },
  {
   "cell_type": "code",
   "execution_count": 34,
   "id": "e12c15bb",
   "metadata": {},
   "outputs": [
    {
     "name": "stdout",
     "output_type": "stream",
     "text": [
      "[ 96 193 290 386 483 580 676 773 870 967]\n"
     ]
    },
    {
     "data": {
      "image/png": "[encoded data removed]",
      "text/plain": [
       "<Figure size 800x600 with 1 Axes>"
      ]
     },
     "metadata": {},
     "output_type": "display_data"
    }
   ],
   "source": [
    "N, train_score, val_score = learning_curve(dt,x_train,y_train, train_sizes=np.linspace(0.1, 1, 10),cv=5)\n",
    "print(N)\n",
    "plt.figure(figsize=(8, 6))\n",
    "plt.plot(N, train_score.mean(axis=1), label='train score')\n",
    "plt.plot(N, val_score.mean(axis=1), label='validation score')\n",
    "plt.legend()\n",
    "plt.show()"
   ]
  },
  {
   "cell_type": "markdown",
   "id": "772c087f",
   "metadata": {
    "id": "CdisRlui-zXl",
    "papermill": {
     "duration": 0.025023,
     "end_time": "2021-11-23T12:55:50.972399",
     "exception": false,
     "start_time": "2021-11-23T12:55:50.947376",
     "status": "completed"
    },
    "tags": []
   },
   "source": [
    "##### 3. Random Forest"
   ]
  },
  {
   "cell_type": "code",
   "execution_count": 35,
   "id": "ffda153f",
   "metadata": {},
   "outputs": [
    {
     "name": "stdout",
     "output_type": "stream",
     "text": [
      "Classification Report for Train Data:\n",
      "              precision    recall  f1-score   support\n",
      "\n",
      "           1       0.99      0.98      0.99       852\n",
      "           2       0.88      0.98      0.93       266\n",
      "           3       0.97      0.76      0.85        41\n",
      "           4       0.97      0.76      0.85        50\n",
      "\n",
      "    accuracy                           0.97      1209\n",
      "   macro avg       0.96      0.87      0.91      1209\n",
      "weighted avg       0.97      0.97      0.97      1209\n",
      "\n",
      "Classification Report for Test Data:\n",
      "              precision    recall  f1-score   support\n",
      "\n",
      "           1       0.99      0.97      0.98       358\n",
      "           2       0.86      0.92      0.89       118\n",
      "           3       0.91      0.88      0.89        24\n",
      "           4       0.69      0.58      0.63        19\n",
      "\n",
      "    accuracy                           0.94       519\n",
      "   macro avg       0.86      0.84      0.85       519\n",
      "weighted avg       0.94      0.94      0.94       519\n",
      "\n"
     ]
    }
   ],
   "source": [
    "# Création du modèle de régression logistique\n",
    "rf = RandomForestClassifier(max_depth = 7,random_state = 48)\n",
    "\n",
    "# Entraînement du modèle sur les données d'entraînement\n",
    "rf.fit(x_train,y_train)\n",
    "\n",
    "# Prédiction sur les données d'entraînement et de test\n",
    "yp_train = rf.predict(x_train)\n",
    "yp_test = rf.predict(x_test)\n",
    "\n",
    "# Affichage du rapport de classification pour les données d'entraînement\n",
    "result_train = classification_report(y_train, yp_train)\n",
    "print(\"Classification Report for Train Data:\")\n",
    "print(result_train)\n",
    "\n",
    "# Affichage du rapport de classification pour les données de test\n",
    "result_test = classification_report(y_test, yp_test)\n",
    "print(\"Classification Report for Test Data:\")\n",
    "print(result_test)\n"
   ]
  },
  {
   "cell_type": "code",
   "execution_count": 36,
   "id": "580f39bb",
   "metadata": {},
   "outputs": [
    {
     "name": "stdout",
     "output_type": "stream",
     "text": [
      "F1: 0.9421965317919075\n",
      "MCC: 0.8776284863183522\n"
     ]
    }
   ],
   "source": [
    "f1_RF= f1_score(y_test, yp_test,average='micro')\n",
    "MCC_RF= matthews_corrcoef(y_test, yp_test)\n",
    "print('F1:',f1_RF)\n",
    "print('MCC:',MCC_RF)"
   ]
  },
  {
   "cell_type": "code",
   "execution_count": 37,
   "id": "d7f620a9",
   "metadata": {},
   "outputs": [
    {
     "name": "stdout",
     "output_type": "stream",
     "text": [
      "[ 96 193 290 386 483 580 676 773 870 967]\n"
     ]
    },
    {
     "data": {
      "image/png": "[encoded data removed]",
      "text/plain": [
       "<Figure size 800x600 with 1 Axes>"
      ]
     },
     "metadata": {},
     "output_type": "display_data"
    }
   ],
   "source": [
    "N, train_score, val_score = learning_curve(rf,x_train,y_train, train_sizes=np.linspace(0.1, 1, 10),cv=5)\n",
    "print(N)\n",
    "plt.figure(figsize=(8, 6))\n",
    "plt.plot(N, train_score.mean(axis=1), label='train score')\n",
    "plt.plot(N, val_score.mean(axis=1), label='validation score')\n",
    "plt.legend()\n",
    "plt.show()"
   ]
  },
  {
   "cell_type": "markdown",
   "id": "f26b699d",
   "metadata": {},
   "source": [
    "#### 4. SVM"
   ]
  },
  {
   "cell_type": "code",
   "execution_count": 38,
   "id": "3ec6013e",
   "metadata": {},
   "outputs": [
    {
     "name": "stdout",
     "output_type": "stream",
     "text": [
      "Classification Report for Train Data:\n",
      "              precision    recall  f1-score   support\n",
      "\n",
      "           1       0.99      0.99      0.99       852\n",
      "           2       0.95      0.95      0.95       266\n",
      "           3       1.00      0.88      0.94        41\n",
      "           4       0.94      0.98      0.96        50\n",
      "\n",
      "    accuracy                           0.98      1209\n",
      "   macro avg       0.97      0.95      0.96      1209\n",
      "weighted avg       0.98      0.98      0.98      1209\n",
      "\n",
      "Classification Report for Test Data:\n",
      "              precision    recall  f1-score   support\n",
      "\n",
      "           1       0.98      0.99      0.98       358\n",
      "           2       0.94      0.91      0.92       118\n",
      "           3       1.00      0.83      0.91        24\n",
      "           4       0.79      1.00      0.88        19\n",
      "\n",
      "    accuracy                           0.96       519\n",
      "   macro avg       0.93      0.93      0.92       519\n",
      "weighted avg       0.97      0.96      0.96       519\n",
      "\n"
     ]
    }
   ],
   "source": [
    "svm1 =SVC() # Keeping max_depth = 7 same as DT\n",
    "svm1.fit(x_train,y_train)\n",
    "\n",
    "yp_train = svm1.predict(x_train)\n",
    "yp_test = svm1.predict(x_test)\n",
    "\n",
    "# Affichage du rapport de classification pour les données d'entraînement\n",
    "result_train = classification_report(y_train, yp_train)\n",
    "print(\"Classification Report for Train Data:\")\n",
    "print(result_train)\n",
    "\n",
    "# Affichage du rapport de classification pour les données de test\n",
    "result_test = classification_report(y_test, yp_test)\n",
    "print(\"Classification Report for Test Data:\")\n",
    "print(result_test)\n"
   ]
  },
  {
   "cell_type": "code",
   "execution_count": 39,
   "id": "9fe51043",
   "metadata": {},
   "outputs": [
    {
     "name": "stdout",
     "output_type": "stream",
     "text": [
      "F1: 0.9633911368015414\n",
      "MCC: 0.9218268115659085\n"
     ]
    }
   ],
   "source": [
    "f1_SVM= f1_score(y_test, yp_test,average='micro')\n",
    "MCC_SVM= matthews_corrcoef(y_test, yp_test)\n",
    "print('F1:',f1_SVM)\n",
    "print('MCC:',MCC_SVM)"
   ]
  },
  {
   "cell_type": "code",
   "execution_count": 40,
   "id": "9789ee63",
   "metadata": {},
   "outputs": [
    {
     "name": "stdout",
     "output_type": "stream",
     "text": [
      "[ 96 193 290 386 483 580 676 773 870 967]\n"
     ]
    },
    {
     "data": {
      "image/png": "[encoded data removed]",
      "text/plain": [
       "<Figure size 800x600 with 1 Axes>"
      ]
     },
     "metadata": {},
     "output_type": "display_data"
    }
   ],
   "source": [
    "N, train_score, val_score = learning_curve(svm1,x_train,y_train, train_sizes=np.linspace(0.1, 1, 10),cv=5)\n",
    "print(N)\n",
    "plt.figure(figsize=(8, 6))\n",
    "plt.plot(N, train_score.mean(axis=1), label='train score')\n",
    "plt.plot(N, val_score.mean(axis=1), label='validation score')\n",
    "plt.legend()\n",
    "plt.show()"
   ]
  },
  {
   "cell_type": "markdown",
   "id": "cf8a5141",
   "metadata": {},
   "source": [
    "#### 5.KNN"
   ]
  },
  {
   "cell_type": "code",
   "execution_count": 41,
   "id": "a66e5226",
   "metadata": {},
   "outputs": [
    {
     "name": "stdout",
     "output_type": "stream",
     "text": [
      "Classification Report for Train Data:\n",
      "              precision    recall  f1-score   support\n",
      "\n",
      "           1       0.97      1.00      0.98       852\n",
      "           2       0.92      0.92      0.92       266\n",
      "           3       1.00      0.76      0.86        41\n",
      "           4       0.97      0.74      0.84        50\n",
      "\n",
      "    accuracy                           0.96      1209\n",
      "   macro avg       0.97      0.85      0.90      1209\n",
      "weighted avg       0.96      0.96      0.96      1209\n",
      "\n",
      "Classification Report for Test Data:\n",
      "              precision    recall  f1-score   support\n",
      "\n",
      "           1       0.95      0.99      0.97       358\n",
      "           2       0.84      0.81      0.83       118\n",
      "           3       0.89      0.67      0.76        24\n",
      "           4       0.77      0.53      0.62        19\n",
      "\n",
      "    accuracy                           0.92       519\n",
      "   macro avg       0.86      0.75      0.80       519\n",
      "weighted avg       0.91      0.92      0.91       519\n",
      "\n"
     ]
    }
   ],
   "source": [
    "knn=KNeighborsClassifier() # Keeping max_depth = 7 same as DT\n",
    "knn.fit(x_train,y_train)\n",
    "\n",
    "yp_train =knn.predict(x_train)\n",
    "yp_test = knn.predict(x_test)\n",
    "\n",
    "\n",
    "\n",
    "# Affichage du rapport de classification pour les données d'entraînement\n",
    "result_train = classification_report(y_train, yp_train)\n",
    "print(\"Classification Report for Train Data:\")\n",
    "print(result_train)\n",
    "\n",
    "# Affichage du rapport de classification pour les données de test\n",
    "result_test = classification_report(y_test, yp_test)\n",
    "print(\"Classification Report for Test Data:\")\n",
    "print(result_test)\n"
   ]
  },
  {
   "cell_type": "code",
   "execution_count": 42,
   "id": "b8e47e3c",
   "metadata": {},
   "outputs": [
    {
     "name": "stdout",
     "output_type": "stream",
     "text": [
      "F1: 0.9171483622350675\n",
      "MCC: 0.8179791618540738\n"
     ]
    }
   ],
   "source": [
    "f1_KNN= f1_score(y_test, yp_test,average='micro')\n",
    "MCC_KNN= matthews_corrcoef(y_test, yp_test)\n",
    "print('F1:',f1_KNN)\n",
    "print('MCC:',MCC_KNN)"
   ]
  },
  {
   "cell_type": "code",
   "execution_count": 43,
   "id": "dc2ba484",
   "metadata": {},
   "outputs": [
    {
     "name": "stdout",
     "output_type": "stream",
     "text": [
      "[ 96 193 290 386 483 580 676 773 870 967]\n"
     ]
    },
    {
     "data": {
      "image/png": "[encoded data removed]",
      "text/plain": [
       "<Figure size 800x600 with 1 Axes>"
      ]
     },
     "metadata": {},
     "output_type": "display_data"
    }
   ],
   "source": [
    "N, train_score, val_score = learning_curve(knn,x_train,y_train, train_sizes=np.linspace(0.1, 1, 10),cv=5)\n",
    "print(N)\n",
    "plt.figure(figsize=(8, 6))\n",
    "plt.plot(N, train_score.mean(axis=1), label='train score')\n",
    "plt.plot(N, val_score.mean(axis=1), label='validation score')\n",
    "plt.legend()\n",
    "plt.show()"
   ]
  },
  {
   "cell_type": "markdown",
   "id": "4ff4caaa",
   "metadata": {},
   "source": [
    "# Comparaison entre les modèles"
   ]
  },
  {
   "cell_type": "code",
   "execution_count": 44,
   "id": "65be37b7",
   "metadata": {},
   "outputs": [
    {
     "name": "stdout",
     "output_type": "stream",
     "text": [
      "Models\tAccuracy\n",
      "\n",
      "LR\t0.8169556840077071\n",
      "DT\t0.9171483622350675\n",
      "RF\t0.9421965317919075\n",
      "SVM\t0.9633911368015414\n",
      "KNN\t0.9171483622350675\n"
     ]
    }
   ],
   "source": [
    "models = ['LR', 'DT', 'RF', 'SVM', 'KNN']\n",
    "F1_scores = [f1_LR, f1_DT, f1_RF, f1_SVM, f1_KNN]\n",
    "print(\"Models\\tAccuracy\\n\")\n",
    "for i in range(len(models)):\n",
    "    print(str(models[i]) + \"\\t\" + str(F1_scores[i]), end='\\n')"
   ]
  },
  {
   "cell_type": "code",
   "execution_count": 45,
   "id": "814c17e9",
   "metadata": {},
   "outputs": [
    {
     "name": "stdout",
     "output_type": "stream",
     "text": [
      "\n",
      "------------>Nous décidons à partir du graphique à barres que le meilleur modèle est SVM<------------\n"
     ]
    },
    {
     "data": {
      "image/png": "[encoded data removed]",
      "text/plain": [
       "<Figure size 1200x900 with 1 Axes>"
      ]
     },
     "metadata": {},
     "output_type": "display_data"
    }
   ],
   "source": [
    "#------------>Trouver le meillleur algorithme utilisant f1-score<----------\n",
    "print(\"\\n------------>Nous décidons à partir du graphique à barres que le meilleur modèle est SVM<------------\")\n",
    "plt.rcParams['figure.figsize'] = (12,9)\n",
    "plt.bar(models, F1_scores, color=['lightblue', 'pink', 'lightgreen', 'cyan','red','yellow','purple','orange','brown'])\n",
    "plt.ylabel(\"F1_scores\")\n",
    "plt.title(\"Comparaison du modèle fondée sur F1_scores \")\n",
    "plt.show()"
   ]
  },
  {
   "cell_type": "code",
   "execution_count": 46,
   "id": "04990f50",
   "metadata": {},
   "outputs": [
    {
     "name": "stdout",
     "output_type": "stream",
     "text": [
      "Models\\MCC\n",
      "\n",
      "LR\t0.8169556840077071\n",
      "DT\t0.9171483622350675\n",
      "RF\t0.9421965317919075\n",
      "SVM\t0.9633911368015414\n",
      "KNN\t0.9171483622350675\n"
     ]
    }
   ],
   "source": [
    "models = ['LR', 'DT', 'RF', 'SVM', 'KNN']\n",
    "MCC_scores = [MCC_LR,MCC_DT,MCC_RF,MCC_SVM,MCC_KNN]\n",
    "print(\"Models\\MCC\\n\")\n",
    "for i in range(len(models)):\n",
    "    print(str(models[i]) + \"\\t\" + str(F1_scores[i]), end='\\n')"
   ]
  },
  {
   "cell_type": "code",
   "execution_count": 47,
   "id": "5937d338",
   "metadata": {},
   "outputs": [
    {
     "name": "stdout",
     "output_type": "stream",
     "text": [
      "\n",
      "------------>Nous décidons à partir du graphique à barres que le meilleur modèle est SVM<------------\n"
     ]
    },
    {
     "data": {
      "image/png": "[encoded data removed]",
      "text/plain": [
       "<Figure size 1200x900 with 1 Axes>"
      ]
     },
     "metadata": {},
     "output_type": "display_data"
    }
   ],
   "source": [
    "#------------>Trouver le meillleur algorithme utilisant f1-score<----------\n",
    "print(\"\\n------------>Nous décidons à partir du graphique à barres que le meilleur modèle est SVM<------------\")\n",
    "plt.rcParams['figure.figsize'] = (12,9)\n",
    "plt.bar(models, F1_scores, color=['lightblue', 'pink', 'lightgreen', 'cyan','red','yellow','purple','orange','brown'])\n",
    "plt.ylabel(\"F1_scores\")\n",
    "plt.title(\"Comparaison du modèle fondée sur F1_scores \")\n",
    "plt.show()"
   ]
  },
  {
   "cell_type": "markdown",
   "id": "1f1b8e07",
   "metadata": {},
   "source": [
    "# Optimisation des modèles"
   ]
  },
  {
   "cell_type": "markdown",
   "id": "09106c71",
   "metadata": {},
   "source": [
    "# SVM"
   ]
  },
  {
   "cell_type": "markdown",
   "id": "fd081d1a",
   "metadata": {},
   "source": [
    "# Validation croisé "
   ]
  },
  {
   "cell_type": "code",
   "execution_count": 48,
   "id": "070c5fe7",
   "metadata": {},
   "outputs": [
    {
     "data": {
      "text/plain": [
       "0.9528445526559446"
      ]
     },
     "execution_count": 48,
     "metadata": {},
     "output_type": "execute_result"
    }
   ],
   "source": [
    "from sklearn.model_selection import cross_val_score\n",
    "cross_val_score(SVC(),x_train, y_train, cv=5, scoring='accuracy').mean()"
   ]
  },
  {
   "cell_type": "markdown",
   "id": "ec8413e3",
   "metadata": {},
   "source": [
    "# Grid search"
   ]
  },
  {
   "cell_type": "code",
   "execution_count": 49,
   "id": "2b03575d",
   "metadata": {},
   "outputs": [
    {
     "name": "stdout",
     "output_type": "stream",
     "text": [
      "Fitting 5 folds for each of 25 candidates, totalling 125 fits\n",
      "[CV 1/5] END .....C=0.1, gamma=1, kernel=linear;, score=0.843 total time=   0.0s\n",
      "[CV 2/5] END .....C=0.1, gamma=1, kernel=linear;, score=0.814 total time=   0.0s\n",
      "[CV 3/5] END .....C=0.1, gamma=1, kernel=linear;, score=0.802 total time=   0.0s\n",
      "[CV 4/5] END .....C=0.1, gamma=1, kernel=linear;, score=0.835 total time=   0.0s\n",
      "[CV 5/5] END .....C=0.1, gamma=1, kernel=linear;, score=0.838 total time=   0.0s\n",
      "[CV 1/5] END ...C=0.1, gamma=0.1, kernel=linear;, score=0.843 total time=   0.0s\n",
      "[CV 2/5] END ...C=0.1, gamma=0.1, kernel=linear;, score=0.814 total time=   0.0s\n",
      "[CV 3/5] END ...C=0.1, gamma=0.1, kernel=linear;, score=0.802 total time=   0.0s\n",
      "[CV 4/5] END ...C=0.1, gamma=0.1, kernel=linear;, score=0.835 total time=   0.0s\n",
      "[CV 5/5] END ...C=0.1, gamma=0.1, kernel=linear;, score=0.838 total time=   0.0s\n",
      "[CV 1/5] END ..C=0.1, gamma=0.01, kernel=linear;, score=0.843 total time=   0.0s\n",
      "[CV 2/5] END ..C=0.1, gamma=0.01, kernel=linear;, score=0.814 total time=   0.0s\n",
      "[CV 3/5] END ..C=0.1, gamma=0.01, kernel=linear;, score=0.802 total time=   0.0s\n",
      "[CV 4/5] END ..C=0.1, gamma=0.01, kernel=linear;, score=0.835 total time=   0.0s\n",
      "[CV 5/5] END ..C=0.1, gamma=0.01, kernel=linear;, score=0.838 total time=   0.0s\n",
      "[CV 1/5] END .C=0.1, gamma=0.001, kernel=linear;, score=0.843 total time=   0.0s\n",
      "[CV 2/5] END .C=0.1, gamma=0.001, kernel=linear;, score=0.814 total time=   0.0s\n",
      "[CV 3/5] END .C=0.1, gamma=0.001, kernel=linear;, score=0.802 total time=   0.0s\n",
      "[CV 4/5] END .C=0.1, gamma=0.001, kernel=linear;, score=0.835 total time=   0.0s\n",
      "[CV 5/5] END .C=0.1, gamma=0.001, kernel=linear;, score=0.838 total time=   0.0s\n",
      "[CV 1/5] END C=0.1, gamma=0.0001, kernel=linear;, score=0.843 total time=   0.0s\n",
      "[CV 2/5] END C=0.1, gamma=0.0001, kernel=linear;, score=0.814 total time=   0.0s\n",
      "[CV 3/5] END C=0.1, gamma=0.0001, kernel=linear;, score=0.802 total time=   0.0s\n",
      "[CV 4/5] END C=0.1, gamma=0.0001, kernel=linear;, score=0.835 total time=   0.0s\n",
      "[CV 5/5] END C=0.1, gamma=0.0001, kernel=linear;, score=0.838 total time=   0.0s\n",
      "[CV 1/5] END .......C=1, gamma=1, kernel=linear;, score=0.872 total time=   0.0s\n",
      "[CV 2/5] END .......C=1, gamma=1, kernel=linear;, score=0.806 total time=   0.0s\n",
      "[CV 3/5] END .......C=1, gamma=1, kernel=linear;, score=0.831 total time=   0.0s\n",
      "[CV 4/5] END .......C=1, gamma=1, kernel=linear;, score=0.839 total time=   0.0s\n",
      "[CV 5/5] END .......C=1, gamma=1, kernel=linear;, score=0.846 total time=   0.0s\n",
      "[CV 1/5] END .....C=1, gamma=0.1, kernel=linear;, score=0.872 total time=   0.0s\n",
      "[CV 2/5] END .....C=1, gamma=0.1, kernel=linear;, score=0.806 total time=   0.0s\n",
      "[CV 3/5] END .....C=1, gamma=0.1, kernel=linear;, score=0.831 total time=   0.0s\n",
      "[CV 4/5] END .....C=1, gamma=0.1, kernel=linear;, score=0.839 total time=   0.0s\n",
      "[CV 5/5] END .....C=1, gamma=0.1, kernel=linear;, score=0.846 total time=   0.0s\n",
      "[CV 1/5] END ....C=1, gamma=0.01, kernel=linear;, score=0.872 total time=   0.0s\n",
      "[CV 2/5] END ....C=1, gamma=0.01, kernel=linear;, score=0.806 total time=   0.0s\n",
      "[CV 3/5] END ....C=1, gamma=0.01, kernel=linear;, score=0.831 total time=   0.0s\n",
      "[CV 4/5] END ....C=1, gamma=0.01, kernel=linear;, score=0.839 total time=   0.0s\n",
      "[CV 5/5] END ....C=1, gamma=0.01, kernel=linear;, score=0.846 total time=   0.0s\n",
      "[CV 1/5] END ...C=1, gamma=0.001, kernel=linear;, score=0.872 total time=   0.0s\n",
      "[CV 2/5] END ...C=1, gamma=0.001, kernel=linear;, score=0.806 total time=   0.0s\n",
      "[CV 3/5] END ...C=1, gamma=0.001, kernel=linear;, score=0.831 total time=   0.0s\n",
      "[CV 4/5] END ...C=1, gamma=0.001, kernel=linear;, score=0.839 total time=   0.0s\n",
      "[CV 5/5] END ...C=1, gamma=0.001, kernel=linear;, score=0.846 total time=   0.0s\n",
      "[CV 1/5] END ..C=1, gamma=0.0001, kernel=linear;, score=0.872 total time=   0.0s\n",
      "[CV 2/5] END ..C=1, gamma=0.0001, kernel=linear;, score=0.806 total time=   0.0s\n",
      "[CV 3/5] END ..C=1, gamma=0.0001, kernel=linear;, score=0.831 total time=   0.0s\n",
      "[CV 4/5] END ..C=1, gamma=0.0001, kernel=linear;, score=0.839 total time=   0.0s\n",
      "[CV 5/5] END ..C=1, gamma=0.0001, kernel=linear;, score=0.846 total time=   0.0s\n",
      "[CV 1/5] END ......C=10, gamma=1, kernel=linear;, score=0.884 total time=   0.0s\n",
      "[CV 2/5] END ......C=10, gamma=1, kernel=linear;, score=0.818 total time=   0.0s\n",
      "[CV 3/5] END ......C=10, gamma=1, kernel=linear;, score=0.839 total time=   0.0s\n",
      "[CV 4/5] END ......C=10, gamma=1, kernel=linear;, score=0.847 total time=   0.0s\n",
      "[CV 5/5] END ......C=10, gamma=1, kernel=linear;, score=0.846 total time=   0.0s\n",
      "[CV 1/5] END ....C=10, gamma=0.1, kernel=linear;, score=0.884 total time=   0.0s\n",
      "[CV 2/5] END ....C=10, gamma=0.1, kernel=linear;, score=0.818 total time=   0.0s\n",
      "[CV 3/5] END ....C=10, gamma=0.1, kernel=linear;, score=0.839 total time=   0.0s\n",
      "[CV 4/5] END ....C=10, gamma=0.1, kernel=linear;, score=0.847 total time=   0.0s\n",
      "[CV 5/5] END ....C=10, gamma=0.1, kernel=linear;, score=0.846 total time=   0.0s\n",
      "[CV 1/5] END ...C=10, gamma=0.01, kernel=linear;, score=0.884 total time=   0.0s\n",
      "[CV 2/5] END ...C=10, gamma=0.01, kernel=linear;, score=0.818 total time=   0.0s\n",
      "[CV 3/5] END ...C=10, gamma=0.01, kernel=linear;, score=0.839 total time=   0.0s\n",
      "[CV 4/5] END ...C=10, gamma=0.01, kernel=linear;, score=0.847 total time=   0.0s\n",
      "[CV 5/5] END ...C=10, gamma=0.01, kernel=linear;, score=0.846 total time=   0.0s\n",
      "[CV 1/5] END ..C=10, gamma=0.001, kernel=linear;, score=0.884 total time=   0.0s\n",
      "[CV 2/5] END ..C=10, gamma=0.001, kernel=linear;, score=0.818 total time=   0.0s\n",
      "[CV 3/5] END ..C=10, gamma=0.001, kernel=linear;, score=0.839 total time=   0.0s\n",
      "[CV 4/5] END ..C=10, gamma=0.001, kernel=linear;, score=0.847 total time=   0.0s\n",
      "[CV 5/5] END ..C=10, gamma=0.001, kernel=linear;, score=0.846 total time=   0.0s\n",
      "[CV 1/5] END .C=10, gamma=0.0001, kernel=linear;, score=0.884 total time=   0.0s\n",
      "[CV 2/5] END .C=10, gamma=0.0001, kernel=linear;, score=0.818 total time=   0.0s\n",
      "[CV 3/5] END .C=10, gamma=0.0001, kernel=linear;, score=0.839 total time=   0.0s\n",
      "[CV 4/5] END .C=10, gamma=0.0001, kernel=linear;, score=0.847 total time=   0.0s\n",
      "[CV 5/5] END .C=10, gamma=0.0001, kernel=linear;, score=0.846 total time=   0.0s\n",
      "[CV 1/5] END .....C=100, gamma=1, kernel=linear;, score=0.880 total time=   0.1s\n",
      "[CV 2/5] END .....C=100, gamma=1, kernel=linear;, score=0.814 total time=   0.1s\n",
      "[CV 3/5] END .....C=100, gamma=1, kernel=linear;, score=0.839 total time=   0.1s\n",
      "[CV 4/5] END .....C=100, gamma=1, kernel=linear;, score=0.847 total time=   0.1s\n",
      "[CV 5/5] END .....C=100, gamma=1, kernel=linear;, score=0.846 total time=   0.1s\n",
      "[CV 1/5] END ...C=100, gamma=0.1, kernel=linear;, score=0.880 total time=   0.1s\n",
      "[CV 2/5] END ...C=100, gamma=0.1, kernel=linear;, score=0.814 total time=   0.1s\n",
      "[CV 3/5] END ...C=100, gamma=0.1, kernel=linear;, score=0.839 total time=   0.1s\n",
      "[CV 4/5] END ...C=100, gamma=0.1, kernel=linear;, score=0.847 total time=   0.1s\n",
      "[CV 5/5] END ...C=100, gamma=0.1, kernel=linear;, score=0.846 total time=   0.1s\n",
      "[CV 1/5] END ..C=100, gamma=0.01, kernel=linear;, score=0.880 total time=   0.1s\n",
      "[CV 2/5] END ..C=100, gamma=0.01, kernel=linear;, score=0.814 total time=   0.1s\n",
      "[CV 3/5] END ..C=100, gamma=0.01, kernel=linear;, score=0.839 total time=   0.1s\n",
      "[CV 4/5] END ..C=100, gamma=0.01, kernel=linear;, score=0.847 total time=   0.1s\n",
      "[CV 5/5] END ..C=100, gamma=0.01, kernel=linear;, score=0.846 total time=   0.1s\n",
      "[CV 1/5] END .C=100, gamma=0.001, kernel=linear;, score=0.880 total time=   0.1s\n",
      "[CV 2/5] END .C=100, gamma=0.001, kernel=linear;, score=0.814 total time=   0.1s\n",
      "[CV 3/5] END .C=100, gamma=0.001, kernel=linear;, score=0.839 total time=   0.1s\n",
      "[CV 4/5] END .C=100, gamma=0.001, kernel=linear;, score=0.847 total time=   0.1s\n",
      "[CV 5/5] END .C=100, gamma=0.001, kernel=linear;, score=0.846 total time=   0.1s\n",
      "[CV 1/5] END C=100, gamma=0.0001, kernel=linear;, score=0.880 total time=   0.2s\n",
      "[CV 2/5] END C=100, gamma=0.0001, kernel=linear;, score=0.814 total time=   0.1s\n",
      "[CV 3/5] END C=100, gamma=0.0001, kernel=linear;, score=0.839 total time=   0.1s\n",
      "[CV 4/5] END C=100, gamma=0.0001, kernel=linear;, score=0.847 total time=   0.1s\n",
      "[CV 5/5] END C=100, gamma=0.0001, kernel=linear;, score=0.846 total time=   0.1s\n",
      "[CV 1/5] END ....C=1000, gamma=1, kernel=linear;, score=0.884 total time=   1.3s\n"
     ]
    },
    {
     "name": "stdout",
     "output_type": "stream",
     "text": [
      "[CV 2/5] END ....C=1000, gamma=1, kernel=linear;, score=0.814 total time=   1.1s\n",
      "[CV 3/5] END ....C=1000, gamma=1, kernel=linear;, score=0.839 total time=   1.4s\n",
      "[CV 4/5] END ....C=1000, gamma=1, kernel=linear;, score=0.839 total time=   1.2s\n",
      "[CV 5/5] END ....C=1000, gamma=1, kernel=linear;, score=0.846 total time=   1.3s\n",
      "[CV 1/5] END ..C=1000, gamma=0.1, kernel=linear;, score=0.884 total time=   1.3s\n",
      "[CV 2/5] END ..C=1000, gamma=0.1, kernel=linear;, score=0.814 total time=   1.1s\n",
      "[CV 3/5] END ..C=1000, gamma=0.1, kernel=linear;, score=0.839 total time=   1.4s\n",
      "[CV 4/5] END ..C=1000, gamma=0.1, kernel=linear;, score=0.839 total time=   1.2s\n",
      "[CV 5/5] END ..C=1000, gamma=0.1, kernel=linear;, score=0.846 total time=   1.3s\n",
      "[CV 1/5] END .C=1000, gamma=0.01, kernel=linear;, score=0.884 total time=   1.4s\n",
      "[CV 2/5] END .C=1000, gamma=0.01, kernel=linear;, score=0.814 total time=   1.1s\n",
      "[CV 3/5] END .C=1000, gamma=0.01, kernel=linear;, score=0.839 total time=   1.4s\n",
      "[CV 4/5] END .C=1000, gamma=0.01, kernel=linear;, score=0.839 total time=   1.3s\n",
      "[CV 5/5] END .C=1000, gamma=0.01, kernel=linear;, score=0.846 total time=   1.3s\n",
      "[CV 1/5] END C=1000, gamma=0.001, kernel=linear;, score=0.884 total time=   1.3s\n",
      "[CV 2/5] END C=1000, gamma=0.001, kernel=linear;, score=0.814 total time=   1.4s\n",
      "[CV 3/5] END C=1000, gamma=0.001, kernel=linear;, score=0.839 total time=   1.8s\n",
      "[CV 4/5] END C=1000, gamma=0.001, kernel=linear;, score=0.839 total time=   1.4s\n",
      "[CV 5/5] END C=1000, gamma=0.001, kernel=linear;, score=0.846 total time=   1.4s\n",
      "[CV 1/5] END C=1000, gamma=0.0001, kernel=linear;, score=0.884 total time=   1.5s\n",
      "[CV 2/5] END C=1000, gamma=0.0001, kernel=linear;, score=0.814 total time=   1.3s\n",
      "[CV 3/5] END C=1000, gamma=0.0001, kernel=linear;, score=0.839 total time=   1.5s\n",
      "[CV 4/5] END C=1000, gamma=0.0001, kernel=linear;, score=0.839 total time=   1.4s\n",
      "[CV 5/5] END C=1000, gamma=0.0001, kernel=linear;, score=0.846 total time=   1.3s\n"
     ]
    },
    {
     "data": {
      "text/plain": [
       "GridSearchCV(estimator=SVC(),\n",
       "             param_grid={'C': [0.1, 1, 10, 100, 1000],\n",
       "                         'gamma': [1, 0.1, 0.01, 0.001, 0.0001],\n",
       "                         'kernel': ['linear']},\n",
       "             verbose=3)"
      ]
     },
     "execution_count": 49,
     "metadata": {},
     "output_type": "execute_result"
    }
   ],
   "source": [
    "from sklearn.model_selection import GridSearchCV\n",
    "# defining parameter range\n",
    "param_grid = {'C': [0.1, 1, 10, 100, 1000],\n",
    "              'gamma': [1, 0.1, 0.01, 0.001, 0.0001],\n",
    "              'kernel': ['linear']}\n",
    "grid = GridSearchCV(SVC(), param_grid, refit = True , verbose  = 3)\n",
    "# fitting the model for grid search\n",
    "grid.fit(x_train, y_train)"
   ]
  },
  {
   "cell_type": "code",
   "execution_count": 109,
   "id": "c10f669b",
   "metadata": {},
   "outputs": [
    {
     "data": {
      "text/plain": [
       "{'C': 10, 'gamma': 1, 'kernel': 'linear'}"
      ]
     },
     "execution_count": 109,
     "metadata": {},
     "output_type": "execute_result"
    }
   ],
   "source": [
    "grid.best_params_"
   ]
  },
  {
   "cell_type": "code",
   "execution_count": 110,
   "id": "c17bb826",
   "metadata": {},
   "outputs": [
    {
     "name": "stdout",
     "output_type": "stream",
     "text": [
      "{'C': 10, 'gamma': 1, 'kernel': 'linear'}\n",
      "SVC(C=10, gamma=1, kernel='linear')\n"
     ]
    }
   ],
   "source": [
    "# afficher best parameter \n",
    "print(grid.best_params_)\n",
    "# imprimer comment notre modèle gère le réglage des hyper-paramètres\n",
    "print(grid.best_estimator_)"
   ]
  },
  {
   "cell_type": "code",
   "execution_count": 111,
   "id": "a08c0299",
   "metadata": {},
   "outputs": [
    {
     "name": "stdout",
     "output_type": "stream",
     "text": [
      "              precision    recall  f1-score   support\n",
      "\n",
      "           1       0.87      0.94      0.90       358\n",
      "           2       0.75      0.59      0.66       118\n",
      "           3       0.82      0.75      0.78        24\n",
      "           4       0.76      0.68      0.72        19\n",
      "\n",
      "    accuracy                           0.84       519\n",
      "   macro avg       0.80      0.74      0.77       519\n",
      "weighted avg       0.83      0.84      0.83       519\n",
      "\n"
     ]
    }
   ],
   "source": [
    "grid_predictions = grid.predict(x_test)\n",
    "# print classification report\n",
    "print(classification_report(y_test, grid_predictions))"
   ]
  },
  {
   "cell_type": "code",
   "execution_count": 112,
   "id": "f0fcbbac",
   "metadata": {},
   "outputs": [
    {
     "name": "stdout",
     "output_type": "stream",
     "text": [
      "F1: 0.9171483622350675\n",
      "MCC: 0.8179791618540738\n"
     ]
    }
   ],
   "source": [
    "f1_SVM2= f1_score(y_test, yp_test,average='micro')\n",
    "MCC_SVM2= matthews_corrcoef(y_test, yp_test)\n",
    "print('F1:',f1_SVM2)\n",
    "print('MCC:',MCC_SVM2)"
   ]
  },
  {
   "cell_type": "code",
   "execution_count": 113,
   "id": "2ab3c72b",
   "metadata": {},
   "outputs": [
    {
     "name": "stdout",
     "output_type": "stream",
     "text": [
      "[ 96 193 290 386 483 580 676 773 870 967]\n"
     ]
    },
    {
     "data": {
      "image/png": "[encoded data removed]",
      "text/plain": [
       "<Figure size 800x600 with 1 Axes>"
      ]
     },
     "metadata": {},
     "output_type": "display_data"
    }
   ],
   "source": [
    "N, train_score, val_score = learning_curve(svm1,x_train,y_train, train_sizes=np.linspace(0.1, 1, 10),cv=5)\n",
    "print(N)\n",
    "plt.figure(figsize=(8, 6))\n",
    "plt.plot(N, train_score.mean(axis=1), label='train score')\n",
    "plt.plot(N, val_score.mean(axis=1), label='validation score')\n",
    "plt.legend()\n",
    "plt.show()"
   ]
  },
  {
   "cell_type": "code",
   "execution_count": 34,
   "id": "f5fd3c4f",
   "metadata": {},
   "outputs": [
    {
     "data": {
      "text/plain": [
       "RandomForestClassifier()"
      ]
     },
     "execution_count": 34,
     "metadata": {},
     "output_type": "execute_result"
    }
   ],
   "source": [
    "#appliquer la regression logistique sur notre dataset\n",
    "classifier=RandomForestClassifier()\n",
    "classifier.fit(x,y)"
   ]
  },
  {
   "cell_type": "code",
   "execution_count": null,
   "id": "88a0dd97",
   "metadata": {},
   "outputs": [],
   "source": [
    "import pickle"
   ]
  },
  {
   "cell_type": "code",
   "execution_count": 101,
   "id": "c8828527",
   "metadata": {},
   "outputs": [],
   "source": [
    "#enregestrer le modele\n",
    "pickle.dump(classifier,open('model.pkl','wb'))"
   ]
  }
 ],
 "metadata": {
  "kernelspec": {
   "display_name": "Python 3 (ipykernel)",
   "language": "python",
   "name": "python3"
  },
  "language_info": {
   "codemirror_mode": {
    "name": "ipython",
    "version": 3
   },
   "file_extension": ".py",
   "mimetype": "text/x-python",
   "name": "python",
   "nbconvert_exporter": "python",
   "pygments_lexer": "ipython3",
   "version": "3.10.9"
  },
  "papermill": {
   "default_parameters": {},
   "duration": 24.602859,
   "end_time": "2021-11-23T12:55:52.144746",
   "environment_variables": {},
   "exception": null,
   "input_path": "__notebook__.ipynb",
   "output_path": "__notebook__.ipynb",
   "parameters": {},
   "start_time": "2021-11-23T12:55:27.541887",
   "version": "2.3.3"
  }
 },
 "nbformat": 4,
 "nbformat_minor": 5
}
